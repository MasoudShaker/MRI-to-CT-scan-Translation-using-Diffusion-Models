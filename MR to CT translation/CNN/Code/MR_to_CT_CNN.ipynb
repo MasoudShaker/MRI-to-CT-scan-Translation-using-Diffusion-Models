{
  "nbformat": 4,
  "nbformat_minor": 0,
  "metadata": {
    "colab": {
      "provenance": [],
      "gpuType": "T4"
    },
    "kernelspec": {
      "name": "python3",
      "display_name": "Python 3"
    },
    "language_info": {
      "name": "python"
    },
    "accelerator": "GPU"
  },
  "cells": [
    {
      "cell_type": "code",
      "source": [
        "from google.colab import drive\n",
        "\n",
        "drive.mount('drive')"
      ],
      "metadata": {
        "colab": {
          "base_uri": "https://localhost:8080/"
        },
        "id": "xDVJBqhg8drH",
        "outputId": "7c3dea5d-3c7b-4afc-ab84-21b72f1a10bf"
      },
      "execution_count": 1,
      "outputs": [
        {
          "output_type": "stream",
          "name": "stdout",
          "text": [
            "Mounted at drive\n"
          ]
        }
      ]
    },
    {
      "cell_type": "code",
      "source": [
        "import torch\n",
        "import torch\n",
        "from torch.optim import Adam\n",
        "from torch.utils.data import TensorDataset, DataLoader\n",
        "import torchvision.transforms as T\n",
        "\n",
        "import matplotlib.pyplot as plt\n",
        "import numpy as np\n",
        "import os"
      ],
      "metadata": {
        "id": "PMlBnh408oqv"
      },
      "execution_count": 2,
      "outputs": []
    },
    {
      "cell_type": "code",
      "source": [
        "device = \"cuda\" if torch.cuda.is_available() else \"cpu\"\n",
        "device"
      ],
      "metadata": {
        "colab": {
          "base_uri": "https://localhost:8080/",
          "height": 34
        },
        "id": "QTixRbqs9Drv",
        "outputId": "af0d050a-8c09-4801-aba4-b6012266ebe0"
      },
      "execution_count": 3,
      "outputs": [
        {
          "output_type": "execute_result",
          "data": {
            "text/plain": [
              "'cuda'"
            ],
            "application/vnd.google.colaboratory.intrinsic+json": {
              "type": "string"
            }
          },
          "metadata": {},
          "execution_count": 3
        }
      ]
    },
    {
      "cell_type": "code",
      "source": [
        "# read mr and ct datasets\n",
        "MR_train_address = 'drive/MyDrive/MR_CT_data/train_input.npy'\n",
        "CT_train_address = 'drive/MyDrive/MR_CT_data/train_output.npy'\n",
        "\n",
        "MR_val_address = 'drive/MyDrive/MR_CT_data/val_input.npy'\n",
        "CT_val_address = 'drive/MyDrive/MR_CT_data/val_output.npy'\n",
        "\n",
        "MR_test_address = 'drive/MyDrive/MR_CT_data/test_input.npy'\n",
        "CT_test_address = 'drive/MyDrive/MR_CT_data/test_output.npy'\n",
        "\n",
        "mr_train = np.load(MR_train_address)\n",
        "ct_train = np.load(CT_train_address)\n",
        "\n",
        "mr_val = np.load(MR_val_address)\n",
        "ct_val = np.load(CT_val_address)\n",
        "\n",
        "mr_test = np.load(MR_test_address)\n",
        "ct_test = np.load(CT_test_address)"
      ],
      "metadata": {
        "id": "6sicUyFp8-hv"
      },
      "execution_count": 4,
      "outputs": []
    },
    {
      "cell_type": "code",
      "source": [
        "ct_train.shape, ct_val.shape, ct_test.shape"
      ],
      "metadata": {
        "colab": {
          "base_uri": "https://localhost:8080/"
        },
        "id": "qTUC2j4A9Jgg",
        "outputId": "7b2be2e1-47b2-4746-826b-231120981465"
      },
      "execution_count": 5,
      "outputs": [
        {
          "output_type": "execute_result",
          "data": {
            "text/plain": [
              "((570, 256, 256), (90, 256, 256), (150, 256, 256))"
            ]
          },
          "metadata": {},
          "execution_count": 5
        }
      ]
    },
    {
      "cell_type": "code",
      "source": [
        "# resizes a 1d numpy array to an arbitrary size\n",
        "def resize(img, size):\n",
        "\n",
        "  img = img.astype('float32')\n",
        "  img = torch.tensor(img)\n",
        "  img = img.unsqueeze(0)\n",
        "\n",
        "  transform = T.Resize(size, antialias=False)\n",
        "  resized_img = transform(img)\n",
        "\n",
        "  resized_img = np.array(resized_img)\n",
        "  # resized_img = np.reshape(resized_img, (size, size, 1))\n",
        "\n",
        "  return resized_img"
      ],
      "metadata": {
        "id": "ZmYrdqnFRtOT"
      },
      "execution_count": 6,
      "outputs": []
    },
    {
      "cell_type": "code",
      "source": [
        "n_train_samples = ct_train.shape[0]\n",
        "n_val_samples = ct_val.shape[0]\n",
        "n_test_samples = ct_test.shape[0]\n",
        "\n",
        "n_add_from_test_to_train = 90\n",
        "\n",
        "n_train_new = n_train_samples + n_val_samples + n_add_from_test_to_train\n",
        "n_test_new = n_test_samples - n_add_from_test_to_train\n",
        "\n",
        "mr_train_resized = [None] * n_train_new\n",
        "ct_train_resized = [None] * n_train_new\n",
        "\n",
        "mr_test_resized = [None] * n_test_new\n",
        "ct_test_resized = [None] * n_test_new\n",
        "\n",
        "for i in range(n_train_samples):\n",
        "\n",
        "  mr_train_resized[i] = resize(mr_train[i], 64)\n",
        "  ct_train_resized[i] = resize(ct_train[i], 64)\n",
        "\n",
        "for i in range(n_val_samples):\n",
        "\n",
        "  j = i + n_train_samples\n",
        "\n",
        "  mr_train_resized[j] = resize(mr_val[i], 64)\n",
        "  ct_train_resized[j] = resize(ct_val[i], 64)\n",
        "\n",
        "\n",
        "for i in range(n_add_from_test_to_train):\n",
        "\n",
        "  j = i + n_train_samples + n_val_samples\n",
        "\n",
        "  mr_train_resized[j] = resize(mr_test[i], 64)\n",
        "  ct_train_resized[j] = resize(ct_test[i], 64)\n",
        "\n",
        "\n",
        "for i in range(n_test_new):\n",
        "\n",
        "  j = i + n_add_from_test_to_train\n",
        "\n",
        "  mr_test_resized[i] = resize(mr_test[j], 64)\n",
        "  ct_test_resized[i] = resize(ct_test[j], 64)\n",
        "\n",
        "# convert lists of mr and ct to tensors\n",
        "mr_train_resized = np.array(mr_train_resized)\n",
        "mr_train_resized = torch.tensor(mr_train_resized)\n",
        "\n",
        "mr_test_resized = np.array(mr_test_resized)\n",
        "mr_test_resized = torch.tensor(mr_test_resized)\n",
        "\n",
        "ct_train_resized = np.array(ct_train_resized)\n",
        "ct_train_resized = torch.tensor(ct_train_resized)\n",
        "\n",
        "ct_test_resized = np.array(ct_test_resized)\n",
        "ct_test_resized = torch.tensor(ct_test_resized)\n",
        "\n",
        "print('train images shape:', mr_train_resized.shape)\n",
        "print('test images shape:', mr_test_resized.shape)"
      ],
      "metadata": {
        "colab": {
          "base_uri": "https://localhost:8080/"
        },
        "id": "Tyya-D9f9RMW",
        "outputId": "6056d862-7357-4b7a-9a68-984d1ef0780d"
      },
      "execution_count": 7,
      "outputs": [
        {
          "output_type": "stream",
          "name": "stdout",
          "text": [
            "train images shape: torch.Size([750, 1, 64, 64])\n",
            "test images shape: torch.Size([60, 1, 64, 64])\n"
          ]
        }
      ]
    },
    {
      "cell_type": "code",
      "source": [
        "train_dataset = TensorDataset(mr_train_resized, ct_train_resized)\n",
        "test_dataset = TensorDataset(mr_test_resized, ct_test_resized)"
      ],
      "metadata": {
        "id": "oJPM2iVH9Uo9"
      },
      "execution_count": 8,
      "outputs": []
    },
    {
      "cell_type": "code",
      "execution_count": 9,
      "metadata": {
        "colab": {
          "base_uri": "https://localhost:8080/"
        },
        "id": "I_B8STG043QU",
        "outputId": "c2a53e5c-6442-4efe-d365-dfece9dcd946"
      },
      "outputs": [
        {
          "output_type": "stream",
          "name": "stdout",
          "text": [
            "Epoch [1/10000], Loss: 0.0387\n",
            "Epoch [100/10000], Loss: 0.0091\n",
            "Epoch [200/10000], Loss: 0.0076\n",
            "Epoch [300/10000], Loss: 0.0071\n",
            "Epoch [400/10000], Loss: 0.0067\n",
            "Epoch [500/10000], Loss: 0.0065\n",
            "Epoch [600/10000], Loss: 0.0064\n",
            "Epoch [700/10000], Loss: 0.0062\n",
            "Epoch [800/10000], Loss: 0.0061\n",
            "Epoch [900/10000], Loss: 0.0060\n",
            "Epoch [1000/10000], Loss: 0.0060\n",
            "Epoch [1100/10000], Loss: 0.0060\n",
            "Epoch [1200/10000], Loss: 0.0059\n",
            "Epoch [1300/10000], Loss: 0.0059\n",
            "Epoch [1400/10000], Loss: 0.0059\n",
            "Epoch [1500/10000], Loss: 0.0058\n",
            "Epoch [1600/10000], Loss: 0.0058\n",
            "Epoch [1700/10000], Loss: 0.0058\n",
            "Epoch [1800/10000], Loss: 0.0057\n",
            "Epoch [1900/10000], Loss: 0.0057\n",
            "Epoch [2000/10000], Loss: 0.0057\n",
            "Epoch [2100/10000], Loss: 0.0057\n",
            "Epoch [2200/10000], Loss: 0.0057\n",
            "Epoch [2300/10000], Loss: 0.0057\n",
            "Epoch [2400/10000], Loss: 0.0056\n",
            "Epoch [2500/10000], Loss: 0.0056\n",
            "Epoch [2600/10000], Loss: 0.0056\n",
            "Epoch [2700/10000], Loss: 0.0056\n",
            "Epoch [2800/10000], Loss: 0.0057\n",
            "Epoch [2900/10000], Loss: 0.0056\n",
            "Epoch [3000/10000], Loss: 0.0056\n",
            "Epoch [3100/10000], Loss: 0.0056\n",
            "Epoch [3200/10000], Loss: 0.0055\n",
            "Epoch [3300/10000], Loss: 0.0055\n",
            "Epoch [3400/10000], Loss: 0.0055\n",
            "Epoch [3500/10000], Loss: 0.0055\n",
            "Epoch [3600/10000], Loss: 0.0055\n",
            "Epoch [3700/10000], Loss: 0.0055\n",
            "Epoch [3800/10000], Loss: 0.0056\n",
            "Epoch [3900/10000], Loss: 0.0055\n",
            "Epoch [4000/10000], Loss: 0.0055\n",
            "Epoch [4100/10000], Loss: 0.0055\n",
            "Epoch [4200/10000], Loss: 0.0055\n",
            "Epoch [4300/10000], Loss: 0.0054\n",
            "Epoch [4400/10000], Loss: 0.0055\n",
            "Epoch [4500/10000], Loss: 0.0054\n",
            "Epoch [4600/10000], Loss: 0.0055\n",
            "Epoch [4700/10000], Loss: 0.0054\n",
            "Epoch [4800/10000], Loss: 0.0054\n",
            "Epoch [4900/10000], Loss: 0.0055\n",
            "Epoch [5000/10000], Loss: 0.0055\n",
            "Epoch [5100/10000], Loss: 0.0054\n",
            "Epoch [5200/10000], Loss: 0.0054\n",
            "Epoch [5300/10000], Loss: 0.0054\n",
            "Epoch [5400/10000], Loss: 0.0054\n",
            "Epoch [5500/10000], Loss: 0.0054\n",
            "Epoch [5600/10000], Loss: 0.0054\n",
            "Epoch [5700/10000], Loss: 0.0054\n",
            "Epoch [5800/10000], Loss: 0.0054\n",
            "Epoch [5900/10000], Loss: 0.0055\n",
            "Epoch [6000/10000], Loss: 0.0054\n",
            "Epoch [6100/10000], Loss: 0.0054\n",
            "Epoch [6200/10000], Loss: 0.0054\n",
            "Epoch [6300/10000], Loss: 0.0054\n",
            "Epoch [6400/10000], Loss: 0.0055\n",
            "Epoch [6500/10000], Loss: 0.0054\n",
            "Epoch [6600/10000], Loss: 0.0053\n",
            "Epoch [6700/10000], Loss: 0.0054\n",
            "Epoch [6800/10000], Loss: 0.0054\n",
            "Epoch [6900/10000], Loss: 0.0053\n",
            "Epoch [7000/10000], Loss: 0.0053\n",
            "Epoch [7100/10000], Loss: 0.0054\n",
            "Epoch [7200/10000], Loss: 0.0054\n",
            "Epoch [7300/10000], Loss: 0.0053\n",
            "Epoch [7400/10000], Loss: 0.0054\n",
            "Epoch [7500/10000], Loss: 0.0053\n",
            "Epoch [7600/10000], Loss: 0.0053\n",
            "Epoch [7700/10000], Loss: 0.0053\n",
            "Epoch [7800/10000], Loss: 0.0053\n",
            "Epoch [7900/10000], Loss: 0.0053\n",
            "Epoch [8000/10000], Loss: 0.0053\n",
            "Epoch [8100/10000], Loss: 0.0053\n",
            "Epoch [8200/10000], Loss: 0.0053\n",
            "Epoch [8300/10000], Loss: 0.0053\n",
            "Epoch [8400/10000], Loss: 0.0053\n",
            "Epoch [8500/10000], Loss: 0.0054\n",
            "Epoch [8600/10000], Loss: 0.0053\n",
            "Epoch [8700/10000], Loss: 0.0053\n",
            "Epoch [8800/10000], Loss: 0.0053\n",
            "Epoch [8900/10000], Loss: 0.0053\n",
            "Epoch [9000/10000], Loss: 0.0053\n",
            "Epoch [9100/10000], Loss: 0.0053\n",
            "Epoch [9200/10000], Loss: 0.0053\n",
            "Epoch [9300/10000], Loss: 0.0053\n",
            "Epoch [9400/10000], Loss: 0.0053\n",
            "Epoch [9500/10000], Loss: 0.0053\n",
            "Epoch [9600/10000], Loss: 0.0053\n",
            "Epoch [9700/10000], Loss: 0.0053\n",
            "Epoch [9800/10000], Loss: 0.0053\n",
            "Epoch [9900/10000], Loss: 0.0054\n",
            "Epoch [10000/10000], Loss: 0.0053\n"
          ]
        }
      ],
      "source": [
        "import torch\n",
        "import torch.nn as nn\n",
        "import torch.optim as optim\n",
        "from torch.utils.data import DataLoader\n",
        "from pydrive.auth import GoogleAuth\n",
        "from pydrive.drive import GoogleDrive\n",
        "\n",
        "# Define the DiffusionModel architecture\n",
        "class DiffusionModel(nn.Module):\n",
        "  def __init__(self, in_channels, out_channels, diffusion_steps):\n",
        "    super(DiffusionModel, self).__init__()\n",
        "\n",
        "    self.diffusion_steps = diffusion_steps\n",
        "\n",
        "    # Encoder\n",
        "    self.encoder = nn.Sequential(\n",
        "        nn.Conv2d(in_channels, 64, kernel_size=3, padding=1),\n",
        "        nn.ReLU(inplace=True),\n",
        "        nn.Conv2d(64, 64, kernel_size=3, padding=1),\n",
        "        nn.ReLU(inplace=True),\n",
        "        nn.MaxPool2d(kernel_size=2, stride=2)\n",
        "    )\n",
        "\n",
        "    # Decoder\n",
        "    self.decoder = nn.Sequential(\n",
        "        nn.ConvTranspose2d(64, 64, kernel_size=2, stride=2),\n",
        "        nn.ReLU(inplace=True),\n",
        "        nn.Conv2d(64, out_channels, kernel_size=3, padding=1),\n",
        "        nn.Tanh()\n",
        "    )\n",
        "\n",
        "    # Noise Generator\n",
        "    self.noise_generator = nn.Sequential(\n",
        "        nn.ConvTranspose2d(64, 64, kernel_size=2, stride=2),\n",
        "        nn.ReLU(inplace=True),\n",
        "        nn.Conv2d(64, out_channels, kernel_size=3, padding=1),\n",
        "        nn.Tanh()\n",
        "    )\n",
        "\n",
        "  def forward(self, mri_image):\n",
        "\n",
        "    # Pass the MRI image through the encoder\n",
        "    encoded = self.encoder(mri_image)\n",
        "\n",
        "    # Initialize the CT image as the encoded MRI image\n",
        "    ct_image = encoded\n",
        "\n",
        "    # # Perform diffusion steps\n",
        "    # for _ in range(self.diffusion_steps):\n",
        "      # # Generate noise\n",
        "      # noise = self.noise_generator(ct_image)\n",
        "\n",
        "      # # Add noise to the CT image\n",
        "      # ct_image = ct_image + noise\n",
        "\n",
        "      # # Pass the CT image through the decoder\n",
        "      # ct_image = self.decoder(ct_image)\n",
        "    ct_image = self.decoder(ct_image)\n",
        "\n",
        "    return ct_image\n",
        "\n",
        "# Define the training loop\n",
        "def train_model(model, train_loader, criterion, optimizer, num_epochs):\n",
        "  model.train()\n",
        "\n",
        "  step_size = 100\n",
        "\n",
        "  for epoch in range(num_epochs):\n",
        "    running_loss = 0.0\n",
        "\n",
        "    for i, (inputs, targets) in enumerate(train_loader):\n",
        "\n",
        "      inputs = inputs.to(device)\n",
        "      targets = targets.to(device)\n",
        "\n",
        "      optimizer.zero_grad()\n",
        "\n",
        "      # Forward pass\n",
        "      outputs = model(inputs)\n",
        "\n",
        "      # Compute the loss\n",
        "      loss = criterion(outputs, targets)\n",
        "\n",
        "      # Backward pass and optimization\n",
        "      loss.backward()\n",
        "      optimizer.step()\n",
        "\n",
        "      running_loss += loss.item()\n",
        "\n",
        "    epoch_loss = running_loss / len(train_loader)\n",
        "    if (epoch+1) == 1 or (epoch+1) % step_size == 0:\n",
        "      print(f\"Epoch [{epoch+1}/{num_epochs}], Loss: {epoch_loss:.4f}\")\n",
        "\n",
        "\n",
        "# Example usage\n",
        "\n",
        "in_channels = 1  # Number of input channels (grayscale MRI image)\n",
        "out_channels = 1  # Number of output channels (grayscale CT image)\n",
        "\n",
        "diffusion_steps = 5  # Number of diffusion steps\n",
        "num_epochs = 10000  # Number of training epochs\n",
        "learning_rate = 0.001  # Learning rate\n",
        "\n",
        "# Set up your training dataset and dataloader\n",
        "# train_dataset = train_dataset\n",
        "train_loader = DataLoader(train_dataset, batch_size=5, shuffle=True)\n",
        "\n",
        "# Create an instance of the DiffusionModel\n",
        "model = DiffusionModel(in_channels, out_channels, diffusion_steps)\n",
        "model.to(device)\n",
        "\n",
        "# Define the loss function and optimizer\n",
        "criterion = nn.MSELoss()\n",
        "optimizer = optim.Adam(model.parameters(), lr=learning_rate)\n",
        "\n",
        "# Train the model\n",
        "train_model(model, train_loader, criterion, optimizer, num_epochs)"
      ]
    },
    {
      "cell_type": "code",
      "source": [
        "# After training the model\n",
        "saved_model_path = f\"drive/MyDrive/MR_CT_model/model_weights_epochs_{num_epochs}.pth\"\n",
        "torch.save(model.state_dict(), saved_model_path)"
      ],
      "metadata": {
        "id": "9RTxsgqBQKfW"
      },
      "execution_count": 10,
      "outputs": []
    },
    {
      "cell_type": "code",
      "source": [
        "import torch\n",
        "import torch.nn as nn\n",
        "from torch.utils.data import DataLoader\n",
        "from pydrive.auth import GoogleAuth\n",
        "from pydrive.drive import GoogleDrive\n",
        "\n",
        "# # Define the DiffusionModel architecture\n",
        "# class DiffusionModel(nn.Module):\n",
        "#     def __init__(self, in_channels, out_channels, diffusion_steps):\n",
        "#         super(DiffusionModel, self).__init__()\n",
        "\n",
        "#         self.diffusion_steps = diffusion_steps\n",
        "\n",
        "#         # Encoder\n",
        "#         self.encoder = nn.Sequential(\n",
        "#             nn.Conv2d(in_channels, 64, kernel_size=3, padding=1),\n",
        "#             nn.ReLU(inplace=True),\n",
        "#             nn.Conv2d(64, 64, kernel_size=3, padding=1),\n",
        "#             nn.ReLU(inplace=True),\n",
        "#             nn.MaxPool2d(kernel_size=2, stride=2)\n",
        "#         )\n",
        "\n",
        "#         # Decoder\n",
        "#         self.decoder = nn.Sequential(\n",
        "#             nn.ConvTranspose2d(64, 64, kernel_size=2, stride=2),\n",
        "#             nn.ReLU(inplace=True),\n",
        "#             nn.Conv2d(64, out_channels, kernel_size=3, padding=1),\n",
        "#             nn.Tanh()\n",
        "#         )\n",
        "\n",
        "#         # Noise Generator\n",
        "#         self.noise_generator = nn.Sequential(\n",
        "#             nn.ConvTranspose2d(64, 64, kernel_size=2, stride=2),\n",
        "#             nn.ReLU(inplace=True),\n",
        "#             nn.Conv2d(64, out_channels, kernel_size=3, padding=1),\n",
        "#             nn.Tanh()\n",
        "#         )\n",
        "\n",
        "#     def forward(self, mri_image):\n",
        "#         # Pass the MRI image through the encoder\n",
        "#         encoded = self.encoder(mri_image)\n",
        "\n",
        "#         # Initialize the CT image as the encoded MRI image\n",
        "#         ct_image = encoded\n",
        "\n",
        "#         # Perform diffusion steps\n",
        "#         for _ in range(self.diffusion_steps):\n",
        "#             # Generate noise\n",
        "#             noise = self.noise_generator(ct_image)\n",
        "\n",
        "#             # Add noise to the CT image\n",
        "#             ct_image = ct_image + noise\n",
        "\n",
        "#             # Pass the CT image through the decoder\n",
        "#             ct_image = self.decoder(ct_image)\n",
        "\n",
        "#         return ct_image\n",
        "\n",
        "outputs_save_dir = 'drive/MyDrive/MR_CT_outputs'\n",
        "outputs_save_folder = os.path.join(outputs_save_dir, f'epochs_{num_epochs}_')\n",
        "os.mkdir(outputs_save_folder)\n",
        "\n",
        "# Define the testing loop\n",
        "def test_model(model, test_loader, criterion):\n",
        "  model.eval()\n",
        "  total_loss = 0.0\n",
        "\n",
        "  with torch.no_grad():\n",
        "    for i, (inputs, targets) in enumerate(test_loader):\n",
        "\n",
        "      inputs = inputs.to(device)\n",
        "      targets = targets.to(device)\n",
        "      # Forward pass\n",
        "      outputs = model(inputs)\n",
        "\n",
        "      outputs_save_filename = f'outputs_batch{i}'\n",
        "      outputs_save_path = os.path.join(outputs_save_folder, outputs_save_filename)\n",
        "\n",
        "      np.save(outputs_save_path, np.array(outputs.cpu()))\n",
        "\n",
        "      # Compute the loss\n",
        "      loss = criterion(outputs, targets)\n",
        "\n",
        "      total_loss += loss.item()\n",
        "\n",
        "  avg_loss = total_loss / len(test_loader)\n",
        "  print(f\"Average Loss: {avg_loss:.4f}\")\n",
        "\n",
        "# Example usage\n",
        "in_channels = 1  # Number of input channels (grayscale MRI image)\n",
        "out_channels = 1  # Number of output channels (grayscale CT image)\n",
        "diffusion_steps = 5  # Number of diffusion steps\n",
        "\n",
        "# Set up your testing dataset and dataloader\n",
        "# test_dataset = YourTestDataset(...)\n",
        "test_loader = DataLoader(test_dataset, batch_size=5, shuffle=False)\n",
        "\n",
        "\n",
        "\n",
        "# Load the trained model weights\n",
        "# gauth = GoogleAuth()\n",
        "# drive = GoogleDrive(gauth)\n",
        "\n",
        "# file_id = 'your_file_id_here'\n",
        "\n",
        "# file = drive.CreateFile({'id': file_id})\n",
        "# file.GetContentFile('model_weights.pth')\n",
        "\n",
        "model = DiffusionModel(in_channels, out_channels, diffusion_steps)\n",
        "model.to(device)\n",
        "model.load_state_dict(torch.load(saved_model_path))\n",
        "\n",
        "\n",
        "# model = model.load_state_dict(torch.load(saved_model_path))\n",
        "\n",
        "# Define the loss function\n",
        "criterion = nn.MSELoss()\n",
        "\n",
        "# Test the model\n",
        "test_model(model, test_loader, criterion)"
      ],
      "metadata": {
        "id": "P_IeOeQH-2Lb",
        "colab": {
          "base_uri": "https://localhost:8080/"
        },
        "outputId": "8f6af7f3-9826-4414-e9ce-edfeb3dc6863"
      },
      "execution_count": 11,
      "outputs": [
        {
          "output_type": "stream",
          "name": "stdout",
          "text": [
            "Average Loss: 0.0384\n"
          ]
        }
      ]
    },
    {
      "cell_type": "code",
      "source": [
        "batch_number = 0\n",
        "outputs_save_filename = f'outputs_batch{batch_number}.npy'\n",
        "saved_outputs = os.path.join(outputs_save_folder, outputs_save_filename)\n",
        "\n",
        "outputs = np.load(saved_outputs)\n",
        "\n",
        "n_samples = 1\n",
        "\n",
        "for i in range(n_samples):\n",
        "  output = outputs[i]\n",
        "  output = np.reshape(output, (64, 64, 1))\n",
        "  plt.imshow(output, cmap='gray')\n",
        "  plt.show()"
      ],
      "metadata": {
        "colab": {
          "base_uri": "https://localhost:8080/",
          "height": 432
        },
        "id": "5zsG7Oeq0W8h",
        "outputId": "4ea18dcd-2b5c-4df0-b248-cda62227fff9"
      },
      "execution_count": 15,
      "outputs": [
        {
          "output_type": "display_data",
          "data": {
            "text/plain": [
              "<Figure size 640x480 with 1 Axes>"
            ],
            "image/png": "[encoded data removed]"
          },
          "metadata": {}
        }
      ]
    },
    {
      "cell_type": "code",
      "source": [
        "test_sample = ct_test_resized[0]\n",
        "test_sample = np.reshape(test_sample, (64, 64, 1))\n",
        "plt.imshow(test_sample, cmap='gray')"
      ],
      "metadata": {
        "colab": {
          "base_uri": "https://localhost:8080/",
          "height": 449
        },
        "id": "-AmUw99E4rGA",
        "outputId": "69ad14d0-246f-4795-9c00-a14d64b85c8c"
      },
      "execution_count": 16,
      "outputs": [
        {
          "output_type": "execute_result",
          "data": {
            "text/plain": [
              "<matplotlib.image.AxesImage at 0x7ac7a02a6410>"
            ]
          },
          "metadata": {},
          "execution_count": 16
        },
        {
          "output_type": "display_data",
          "data": {
            "text/plain": [
              "<Figure size 640x480 with 1 Axes>"
            ],
            "image/png": "[encoded data removed]"
          },
          "metadata": {}
        }
      ]
    },
    {
      "cell_type": "code",
      "source": [
        "mr_sample = mr_test_resized[0]\n",
        "mr_sample = np.reshape(mr_sample, (64, 64, 1))\n",
        "plt.imshow(mr_sample, cmap='gray')"
      ],
      "metadata": {
        "colab": {
          "base_uri": "https://localhost:8080/",
          "height": 449
        },
        "id": "JacPoWf05Agy",
        "outputId": "04dd37a3-8bad-4dd3-9fc0-4cc02455956f"
      },
      "execution_count": 14,
      "outputs": [
        {
          "output_type": "execute_result",
          "data": {
            "text/plain": [
              "<matplotlib.image.AxesImage at 0x7ac7adaf44c0>"
            ]
          },
          "metadata": {},
          "execution_count": 14
        },
        {
          "output_type": "display_data",
          "data": {
            "text/plain": [
              "<Figure size 640x480 with 1 Axes>"
            ],
            "image/png": "[encoded data removed]"
          },
          "metadata": {}
        }
      ]
    }
  ]
}