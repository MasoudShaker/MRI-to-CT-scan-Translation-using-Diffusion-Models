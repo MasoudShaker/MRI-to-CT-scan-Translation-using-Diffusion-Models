{
  "cells": [
    {
      "cell_type": "code",
      "source": [
        "from google.colab import drive\n",
        "drive.mount('drive')"
      ],
      "metadata": {
        "colab": {
          "base_uri": "https://localhost:8080/"
        },
        "id": "cKN-smtoWI0o",
        "outputId": "8869dfa4-f3ff-44fa-9a49-8f9bdf9dc928"
      },
      "execution_count": 1,
      "outputs": [
        {
          "output_type": "stream",
          "name": "stdout",
          "text": [
            "Mounted at drive\n"
          ]
        }
      ]
    },
    {
      "cell_type": "code",
      "execution_count": 2,
      "metadata": {
        "id": "hu1FkX2GV6hh"
      },
      "outputs": [],
      "source": [
        "import torch\n",
        "import torch.nn as nn\n",
        "from torch.optim import Adam\n",
        "from torch.utils.data import TensorDataset, DataLoader\n",
        "import torchvision.transforms as T\n",
        "\n",
        "import matplotlib.pyplot as plt\n",
        "import numpy as np\n",
        "import os"
      ]
    },
    {
      "cell_type": "code",
      "execution_count": 3,
      "metadata": {
        "colab": {
          "base_uri": "https://localhost:8080/",
          "height": 35
        },
        "id": "W8hqNuktV6hk",
        "outputId": "c93c2b9e-63ba-49e6-db35-f47bd1ea460e"
      },
      "outputs": [
        {
          "output_type": "execute_result",
          "data": {
            "text/plain": [
              "'cuda'"
            ],
            "application/vnd.google.colaboratory.intrinsic+json": {
              "type": "string"
            }
          },
          "metadata": {},
          "execution_count": 3
        }
      ],
      "source": [
        "device = \"cuda\" if torch.cuda.is_available() else \"cpu\"\n",
        "device"
      ]
    },
    {
      "cell_type": "code",
      "execution_count": 4,
      "metadata": {
        "id": "9X2-UMZKV6hl"
      },
      "outputs": [],
      "source": [
        "# read mr and ct datasets\n",
        "MR_train_address = 'drive/MyDrive/MR_CT_data/train_input.npy'\n",
        "CT_train_address = 'drive/MyDrive/MR_CT_data/train_output.npy'\n",
        "\n",
        "MR_val_address = 'drive/MyDrive/MR_CT_data/val_input.npy'\n",
        "CT_val_address = 'drive/MyDrive/MR_CT_data/val_output.npy'\n",
        "\n",
        "MR_test_address = 'drive/MyDrive/MR_CT_data/test_input.npy'\n",
        "CT_test_address = 'drive/MyDrive/MR_CT_data/test_output.npy'\n",
        "\n",
        "mr_train = np.load(MR_train_address)\n",
        "ct_train = np.load(CT_train_address)\n",
        "\n",
        "mr_val = np.load(MR_val_address)\n",
        "ct_val = np.load(CT_val_address)\n",
        "\n",
        "mr_test = np.load(MR_test_address)\n",
        "ct_test = np.load(CT_test_address)"
      ]
    },
    {
      "cell_type": "code",
      "execution_count": 5,
      "metadata": {
        "id": "-7AfMLQ1V6hn"
      },
      "outputs": [],
      "source": [
        "# resizes a 1d numpy array to an arbitrary size\n",
        "def resize(img, size):\n",
        "\n",
        "  img = img.astype('float32')\n",
        "  img = torch.tensor(img)\n",
        "  img = img.unsqueeze(0)\n",
        "\n",
        "  transform = T.Resize(size)\n",
        "  resized_img = transform(img)\n",
        "\n",
        "  # resized_img = np.array(resized_img)\n",
        "\n",
        "  return resized_img"
      ]
    },
    {
      "cell_type": "code",
      "execution_count": 6,
      "metadata": {
        "id": "6tpQFhr5V6ho"
      },
      "outputs": [],
      "source": [
        "change_gray_level = T.Compose([\n",
        "    T.Lambda(lambda t: t * 0.2)\n",
        "])\n",
        "\n",
        "horizontal_flip = T.Compose([\n",
        "    T.functional.hflip\n",
        "])\n",
        "\n",
        "vertical_flip = T.Compose([\n",
        "    T.functional.vflip\n",
        "])\n",
        "\n",
        "rotate_45 = T.Compose([\n",
        "    T.Lambda(lambda t: T.functional.rotate(t, angle=45))\n",
        "])\n",
        "\n",
        "rotate_minus_45 = T.Compose([\n",
        "    T.Lambda(lambda t: T.functional.rotate(t, angle=-45))\n",
        "])"
      ]
    },
    {
      "cell_type": "code",
      "execution_count": 7,
      "metadata": {
        "id": "nFWQIvk_V6ho",
        "colab": {
          "base_uri": "https://localhost:8080/"
        },
        "outputId": "7686a75f-3643-4128-c8c7-9746da0b09e8"
      },
      "outputs": [
        {
          "output_type": "stream",
          "name": "stderr",
          "text": [
            "/usr/local/lib/python3.10/dist-packages/torchvision/transforms/functional.py:1603: UserWarning: The default value of the antialias parameter of all the resizing transforms (Resize(), RandomResizedCrop(), etc.) will change from None to True in v0.17, in order to be consistent across the PIL and Tensor backends. To suppress this warning, directly pass antialias=True (recommended, future default), antialias=None (current default, which means False for Tensors and True for PIL), or antialias=False (only works on Tensors - PIL will still use antialiasing). This also applies if you are using the inference transforms from the models weights: update the call to weights.transforms(antialias=True).\n",
            "  warnings.warn(\n"
          ]
        }
      ],
      "source": [
        "n_train_samples = ct_train.shape[0]\n",
        "n_val_samples = ct_val.shape[0]\n",
        "n_test_samples = ct_test.shape[0]\n",
        "\n",
        "# remove 90 samples from test data and add it to train data\n",
        "n_add_from_test_to_train = 150\n",
        "\n",
        "n_train_new = n_train_samples + n_val_samples + n_add_from_test_to_train\n",
        "n_test_new = n_test_samples - n_add_from_test_to_train\n",
        "\n",
        "# data augmentation\n",
        "# add 5 varient of each sample\n",
        "# so our train dataset will be 6 times bigger\n",
        "\n",
        "# n_train_new = n_train_new * 6\n",
        "# n_train_new = n_train_new * 3\n",
        "# n_train_new = n_train_new * 2\n",
        "\n",
        "mr_train_resized = [None] * n_train_new\n",
        "ct_train_resized = [None] * n_train_new\n",
        "\n",
        "mr_test_resized = [None] * n_test_new\n",
        "ct_test_resized = [None] * n_test_new\n",
        "\n",
        "# train samples with augmentation\n",
        "for i in range(n_train_samples):\n",
        "\n",
        "#   j = i * 6\n",
        "  # j = i*3\n",
        "  j = i\n",
        "  # j = i*2\n",
        "\n",
        "  resized_mr = resize(mr_train[i], 128)\n",
        "\n",
        "  mr_train_resized[j] = resized_mr\n",
        "  # mr_train_resized[j+1] = change_gray_level(resized_mr)\n",
        "  # mr_train_resized[j+1] = horizontal_flip(resized_mr)\n",
        "  # mr_train_resized[j+2] = vertical_flip(resized_mr)\n",
        "  # mr_train_resized[j+1] = rotate_45(resized_mr)\n",
        "  # mr_train_resized[j+2] = rotate_minus_45(resized_mr)\n",
        "\n",
        "  resized_ct = resize(ct_train[i], 128)\n",
        "\n",
        "  ct_train_resized[j] = resized_ct\n",
        "  # ct_train_resized[j+1] = change_gray_level(resized_ct)\n",
        "  # ct_train_resized[j+1] = horizontal_flip(resized_ct)\n",
        "  # ct_train_resized[j+2] = vertical_flip(resized_ct)\n",
        "  # ct_train_resized[j+1] = rotate_45(resized_ct)\n",
        "  # ct_train_resized[j+2] = rotate_minus_45(resized_ct)\n",
        "\n",
        "\n",
        "# validation samples with augmentation\n",
        "for i in range(n_val_samples):\n",
        "\n",
        "#   j = i*6 + n_train_samples*6\n",
        "  # j = i*3 + n_train_samples*3\n",
        "  j = i + n_train_samples\n",
        "  # j = i*2 + n_train_samples*2\n",
        "\n",
        "  resized_mr = resize(mr_val[i], 128)\n",
        "\n",
        "  mr_train_resized[j] = resized_mr\n",
        "  # mr_train_resized[j+1] = change_gray_level(resized_mr)\n",
        "  # mr_train_resized[j+1] = horizontal_flip(resized_mr)\n",
        "  # mr_train_resized[j+2] = vertical_flip(resized_mr)\n",
        "  # mr_train_resized[j+1] = rotate_45(resized_mr)\n",
        "  # mr_train_resized[j+2] = rotate_minus_45(resized_mr)\n",
        "\n",
        "  resized_ct = resize(ct_val[i], 128)\n",
        "\n",
        "  ct_train_resized[j] = resized_ct\n",
        "  # ct_train_resized[j+1] = change_gray_level(resized_ct)\n",
        "  # ct_train_resized[j+1] = horizontal_flip(resized_ct)\n",
        "  # ct_train_resized[j+2] = vertical_flip(resized_ct)\n",
        "  # ct_train_resized[j+1] = rotate_45(resized_ct)\n",
        "  # ct_train_resized[j+2] = rotate_minus_45(resized_ct)\n",
        "\n",
        "\n",
        "# part of test samples with augmentation\n",
        "\n",
        "for i in range(n_add_from_test_to_train):\n",
        "\n",
        "#   j = i*6 + n_train_samples*6 + n_val_samples*6\n",
        "  # j = i*3 + n_train_samples*3 + n_val_samples*3\n",
        "  # j = i + n_train_samples + n_val_samples\n",
        "  j = i + n_train_samples + n_val_samples\n",
        "  # j = i + n_train_samples*2 + n_val_samples*2\n",
        "\n",
        "  resized_mr = resize(mr_test[i], 128)\n",
        "\n",
        "  mr_train_resized[j] = resized_mr\n",
        "  # mr_train_resized[j+1] = change_gray_level(resized_mr)\n",
        "  # mr_train_resized[j+1] = horizontal_flip(resized_mr)\n",
        "  # mr_train_resized[j+2] = vertical_flip(resized_mr)\n",
        "  # mr_train_resized[j+1] = rotate_45(resized_mr)\n",
        "  # mr_train_resized[j+2] = rotate_minus_45(resized_mr)\n",
        "\n",
        "  resized_ct = resize(ct_test[i], 128)\n",
        "\n",
        "  ct_train_resized[j] = resized_ct\n",
        "  # ct_train_resized[j+1] = change_gray_level(resized_ct)\n",
        "  # ct_train_resized[j+1] = horizontal_flip(resized_ct)\n",
        "  # ct_train_resized[j+2] = vertical_flip(resized_ct)\n",
        "  # ct_train_resized[j+1] = rotate_45(resized_ct)\n",
        "  # ct_train_resized[j+2] = rotate_minus_45(resized_ct)\n",
        "\n",
        "# test samples\n",
        "for i in range(n_test_new):\n",
        "\n",
        "  j = i + n_add_from_test_to_train\n",
        "\n",
        "  mr_test_resized[i] = resize(mr_test[j], 128)\n",
        "  ct_test_resized[i] = resize(ct_test[j], 128)"
      ]
    },
    {
      "cell_type": "code",
      "execution_count": 8,
      "metadata": {
        "id": "Xq2mUaRNV6hp"
      },
      "outputs": [],
      "source": [
        "# convert train and test samples to numpy array\n",
        "for i in range(n_train_new):\n",
        "  mr_train_resized[i] = np.array(mr_train_resized[i].squeeze())\n",
        "  ct_train_resized[i] = np.array(ct_train_resized[i].squeeze())\n",
        "\n",
        "for i in range(n_test_new):\n",
        "  mr_test_resized[i] = np.array(mr_test_resized[i].squeeze())\n",
        "  ct_test_resized[i] = np.array(ct_test_resized[i].squeeze())"
      ]
    },
    {
      "cell_type": "code",
      "execution_count": 9,
      "metadata": {
        "id": "1Ii4iGXtV6hq",
        "colab": {
          "base_uri": "https://localhost:8080/"
        },
        "outputId": "2236bb1d-80db-4abc-d453-a2717ae80946"
      },
      "outputs": [
        {
          "output_type": "stream",
          "name": "stdout",
          "text": [
            "train images shape: (810, 128, 128)\n",
            "test images shape: (0,)\n"
          ]
        }
      ],
      "source": [
        "# convert lists of mr and ct to numpy arrays\n",
        "mr_train_resized = np.array(mr_train_resized)\n",
        "\n",
        "ct_train_resized = np.array(ct_train_resized)\n",
        "\n",
        "mr_test_resized = np.array(mr_test_resized)\n",
        "\n",
        "ct_test_resized = np.array(ct_test_resized)\n",
        "\n",
        "\n",
        "print('train images shape:', mr_train_resized.shape)\n",
        "print('test images shape:', mr_test_resized.shape)"
      ]
    },
    {
      "cell_type": "code",
      "source": [
        "import h5py\n",
        "\n",
        "k = 81\n",
        "fold_size = int(n_train_new / k)\n",
        "\n",
        "mr_train_all_folds = ()\n",
        "ct_train_all_folds = ()\n",
        "\n",
        "for i in range(k):\n",
        "\n",
        "  mr_fold = mr_train_resized[i*fold_size:(i+1)*fold_size]\n",
        "  ct_fold = ct_train_resized[i*fold_size:(i+1)*fold_size]\n",
        "\n",
        "  with h5py.File(f'mr_test{i+1}.hdf5', 'w') as f:\n",
        "    dset = f.create_dataset(\"data\", data = mr_fold)\n",
        "\n",
        "  with h5py.File(f'ct_test{i+1}.hdf5', 'w') as f:\n",
        "      dset = f.create_dataset(\"data\", data = ct_fold)\n",
        "\n",
        "  mr_train_all_folds += (mr_fold,)\n",
        "  ct_train_all_folds += (ct_fold,)"
      ],
      "metadata": {
        "id": "0Gfi1MNQaxyx"
      },
      "execution_count": 10,
      "outputs": []
    },
    {
      "cell_type": "code",
      "source": [
        "for i in range(k):\n",
        "\n",
        "  mr_train_all_folds_lst = list(mr_train_all_folds)\n",
        "  ct_train_all_folds_lst = list(ct_train_all_folds)\n",
        "\n",
        "  mr_train_all_folds_lst.pop(i)\n",
        "  ct_train_all_folds_lst.pop(i)\n",
        "\n",
        "  mr_train = tuple(mr_train_all_folds_lst)\n",
        "  ct_train = tuple(ct_train_all_folds_lst)\n",
        "\n",
        "  mr_train = np.vstack(mr_train)\n",
        "  ct_train = np.vstack(ct_train)\n",
        "\n",
        "  with h5py.File(f'mr_train{i+1}.hdf5', 'w') as f:\n",
        "    dset = f.create_dataset(\"data\", data = mr_train)\n",
        "\n",
        "  with h5py.File(f'ct_train{i+1}.hdf5', 'w') as f:\n",
        "      dset = f.create_dataset(\"data\", data = ct_train)"
      ],
      "metadata": {
        "id": "5Wc8hWaUcuZB"
      },
      "execution_count": 11,
      "outputs": []
    },
    {
      "cell_type": "code",
      "execution_count": 12,
      "metadata": {
        "id": "q46jjiaHV6hr"
      },
      "outputs": [],
      "source": [
        "# perform data augmentation on training data with fold number specified\n",
        "def augment(fold):\n",
        "\n",
        "  mr_path = f'mr_train{fold}.hdf5'\n",
        "  f = h5py.File(mr_path,'r')\n",
        "  mr_data = f['data']\n",
        "  n_mr_samples = len(mr_data)\n",
        "\n",
        "  ct_path = f'ct_train{fold}.hdf5'\n",
        "  f = h5py.File(ct_path,'r')\n",
        "  ct_data = f['data']\n",
        "  n_ct_samples = len(ct_data)\n",
        "\n",
        "  mr_augmented = [None] * n_mr_samples*2\n",
        "  ct_augmented = [None] * n_ct_samples*2\n",
        "\n",
        "  for i in range(n_mr_samples):\n",
        "\n",
        "    j = i*2\n",
        "\n",
        "    mr_sample = mr_data[i]\n",
        "    mr_augmented[j] = mr_sample\n",
        "    mr_augmented[j+1] = change_gray_level(mr_sample)\n",
        "\n",
        "    ct_sample = ct_data[i]\n",
        "    ct_augmented[j] = ct_sample\n",
        "    ct_augmented[j+1] = change_gray_level(ct_sample)\n",
        "\n",
        "\n",
        "  with h5py.File(f'mr_train_augmented{fold}.hdf5', 'w') as f:\n",
        "      dset = f.create_dataset(\"data\", data = mr_augmented)\n",
        "\n",
        "  with h5py.File(f'ct_train_augmented{fold}.hdf5', 'w') as f:\n",
        "      dset = f.create_dataset(\"data\", data = ct_augmented)"
      ]
    },
    {
      "cell_type": "code",
      "source": [
        "augment(fold=1)"
      ],
      "metadata": {
        "id": "mAMFZKrwfJB5"
      },
      "execution_count": 13,
      "outputs": []
    },
    {
      "cell_type": "code",
      "execution_count": 14,
      "metadata": {
        "id": "8B4_qXHSV6hs",
        "colab": {
          "base_uri": "https://localhost:8080/"
        },
        "outputId": "3500f417-b50f-4d82-a955-cf7b30df4dfc"
      },
      "outputs": [
        {
          "output_type": "execute_result",
          "data": {
            "text/plain": [
              "(1600, 128, 128)"
            ]
          },
          "metadata": {},
          "execution_count": 14
        }
      ],
      "source": [
        "path = 'ct_train_augmented1.hdf5'\n",
        "f = h5py.File(path,'r')\n",
        "load_data = f['data']\n",
        "# plt.imshow(load_data[0], cmap='gray')\n",
        "(load_data.shape)"
      ]
    },
    {
      "cell_type": "code",
      "execution_count": 15,
      "metadata": {
        "id": "NZ81LSbeV6ht"
      },
      "outputs": [],
      "source": [
        "# dataset.py DDPM folder\n",
        "import random\n",
        "import numpy as np\n",
        "import torch\n",
        "import h5py\n",
        "from torch.utils.data import Dataset\n",
        "from torchvision import transforms\n",
        "\n",
        "def random_rot(img1,img2):\n",
        "    k = np.random.randint(0, 3)\n",
        "    img1 = np.rot90(img1, k+1)\n",
        "    img2 = np.rot90(img2, k+1)\n",
        "    return img1,img2\n",
        "\n",
        "def random_flip(img1,img2):\n",
        "    axis = np.random.randint(0, 2)\n",
        "    img1 = np.flip(img1, axis=axis).copy()\n",
        "    img2 = np.flip(img2, axis=axis).copy()\n",
        "    return img1,img2\n",
        "\n",
        "class RandomGenerator(object):\n",
        "    def __init__(self, output_size):\n",
        "        self.output_size = output_size\n",
        "\n",
        "    def __call__(self, sample):\n",
        "        lr, hr = sample['lr'], sample['hr']\n",
        "\n",
        "        if random.random() > 0.5:\n",
        "            lr, hr = random_rot(lr, hr)\n",
        "        if random.random() > 0.5:\n",
        "            lr, hr = random_flip(lr, hr)\n",
        "        sample = {'lr': lr,'hr': hr}\n",
        "        return sample\n",
        "\n",
        "\n",
        "\n",
        "class Train_Data(Dataset):\n",
        "    def __init__(self, mr_path, ct_path):\n",
        "        path = mr_path\n",
        "        f = h5py.File(path,'r')\n",
        "        load_data = f['data']\n",
        "        self.lr = load_data\n",
        "        path = ct_path\n",
        "        f = h5py.File(path,'r')\n",
        "        load_data = f['data']\n",
        "        self.hr = load_data\n",
        "        c, self.h, self.w = self.lr.shape\n",
        "\n",
        "        self.len = c\n",
        "        self.transform=transforms.Compose([RandomGenerator(output_size=[self.h, self.w])])\n",
        "\n",
        "    def __getitem__(self, index):\n",
        "        x = self.lr[index, :, :]\n",
        "        y = self.hr[index, :, :]\n",
        "\n",
        "        x = self.norm(x)\n",
        "        y = self.norm(y)\n",
        "\n",
        "        sample = {'lr': x,'hr': y}\n",
        "        if self.transform:\n",
        "            sample = self.transform(sample)\n",
        "\n",
        "        x, y = sample['lr'], sample['hr']\n",
        "\n",
        "        xx = np.zeros((1, self.h, self.w))\n",
        "        yy = np.zeros((1, self.h, self.w))\n",
        "\n",
        "        xx[0,:,:] = x.copy()\n",
        "        yy[0,:,:] = y.copy()\n",
        "\n",
        "        xx = torch.from_numpy(xx)\n",
        "        yy = torch.from_numpy(yy)\n",
        "\n",
        "        xx = xx.type(torch.FloatTensor)\n",
        "        yy = yy.type(torch.FloatTensor)\n",
        "\n",
        "        return xx, yy\n",
        "\n",
        "    def __len__(self):\n",
        "        return self.len\n",
        "\n",
        "    def norm(self, x):\n",
        "        if np.amax(x) > 0:\n",
        "            x = (x - np.amin(x)) / (np.amax(x) - np.amin(x))\n",
        "        return x\n",
        "\n",
        "\n",
        "class Valid_Data(Dataset):\n",
        "    def __init__(self, mr_path, ct_path):\n",
        "        path = mr_path\n",
        "        f = h5py.File(path,'r')\n",
        "        load_data = f['data']\n",
        "        self.lr = load_data\n",
        "        path = ct_path\n",
        "        f = h5py.File(path,'r')\n",
        "        load_data = f['data']\n",
        "        self.hr = load_data\n",
        "        c, self.h, self.w = self.lr.shape\n",
        "\n",
        "        self.len = c\n",
        "\n",
        "    def __getitem__(self, index):\n",
        "        x = self.lr[index, :, :]\n",
        "        y = self.hr[index, :, :]\n",
        "\n",
        "        x = self.norm(x)\n",
        "        y = self.norm(y)\n",
        "\n",
        "        xx = np.zeros((1, self.h, self.w))\n",
        "        yy = np.zeros((1, self.h, self.w))\n",
        "\n",
        "        xx[0,:,:] = x.copy()\n",
        "        yy[0,:,:] = y.copy()\n",
        "\n",
        "        xx = torch.from_numpy(xx)\n",
        "        yy = torch.from_numpy(yy)\n",
        "\n",
        "        xx = xx.type(torch.FloatTensor)\n",
        "        yy = yy.type(torch.FloatTensor)\n",
        "\n",
        "        return xx, yy\n",
        "\n",
        "    def __len__(self):\n",
        "        return self.len\n",
        "\n",
        "    def norm(self, x):\n",
        "        if np.amax(x) > 0:\n",
        "            x = (x - np.amin(x)) / (np.amax(x) - np.amin(x))\n",
        "        return x\n",
        "\n",
        "class Test_Data(Dataset):\n",
        "    def __init__(self):\n",
        "        path = '/path/to/test_mri_data'\n",
        "        f = h5py.File(path,'r')\n",
        "        load_data = f['data']\n",
        "        self.lr = load_data\n",
        "        path = '/path/to/test_ct_data'\n",
        "        f = h5py.File(path,'r')\n",
        "        load_data = f['data']\n",
        "        self.hr = load_data\n",
        "        c, self.h, self.w = self.lr.shape\n",
        "\n",
        "        self.len = 135\n",
        "\n",
        "    def __getitem__(self, index):\n",
        "        x = self.lr[index, :, :]\n",
        "        y = self.hr[index, :, :]\n",
        "\n",
        "        x = self.norm(x)\n",
        "        y = self.norm(y)\n",
        "\n",
        "        xx = np.zeros((1, self.h, self.w))\n",
        "        yy = np.zeros((1, self.h, self.w))\n",
        "\n",
        "        xx[0,:,:] = x.copy()\n",
        "        yy[0,:,:] = y.copy()\n",
        "\n",
        "        xx = torch.from_numpy(xx)\n",
        "        yy = torch.from_numpy(yy)\n",
        "\n",
        "        xx = xx.type(torch.FloatTensor)\n",
        "        yy = yy.type(torch.FloatTensor)\n",
        "\n",
        "        return xx, yy\n",
        "\n",
        "    def __len__(self):\n",
        "        return self.len\n",
        "\n",
        "    def norm(self, x):\n",
        "        if np.amax(x) > 0:\n",
        "            x = (x - np.amin(x)) / (np.amax(x) - np.amin(x))\n",
        "        return x"
      ]
    },
    {
      "cell_type": "code",
      "execution_count": 16,
      "metadata": {
        "id": "-qbh_0G7V6ht"
      },
      "outputs": [],
      "source": [
        "# diffusion.py DDPM folder\n",
        "import torch\n",
        "import torch.nn as nn\n",
        "import torch.nn.functional as F\n",
        "\n",
        "\n",
        "def extract(v, t, x_shape):\n",
        "    \"\"\"\n",
        "    Extract some coefficients at specified timesteps, then reshape to\n",
        "    [batch_size, 1, 1, 1, 1, ...] for broadcasting purposes.\n",
        "    \"\"\"\n",
        "    out = torch.gather(v, index=t, dim=0).float()\n",
        "    return out.view([t.shape[0]] + [1] * (len(x_shape) - 1))\n",
        "\n",
        "\n",
        "class GaussianDiffusionTrainer(nn.Module):\n",
        "    def __init__(self, model, beta_1, beta_T, T):\n",
        "        super().__init__()\n",
        "\n",
        "        self.model = model\n",
        "        self.T = T\n",
        "\n",
        "        self.register_buffer(\n",
        "            'betas', torch.linspace(beta_1, beta_T, T).double())\n",
        "        alphas = 1. - self.betas\n",
        "        alphas_bar = torch.cumprod(alphas, dim=0)\n",
        "\n",
        "        # calculations for diffusion q(x_t | x_{t-1}) and others\n",
        "        self.register_buffer(\n",
        "            'sqrt_alphas_bar', torch.sqrt(alphas_bar))\n",
        "        self.register_buffer(\n",
        "            'sqrt_one_minus_alphas_bar', torch.sqrt(1. - alphas_bar))\n",
        "\n",
        "    def forward(self, x_0, condition):\n",
        "        \"\"\"\n",
        "        Algorithm 1.\n",
        "        \"\"\"\n",
        "        t = torch.randint(self.T, size=(x_0.shape[0], ), device=x_0.device)\n",
        "        noise = torch.randn_like(x_0)\n",
        "        x_t = (\n",
        "            extract(self.sqrt_alphas_bar, t, x_0.shape) * x_0 +\n",
        "            extract(self.sqrt_one_minus_alphas_bar, t, x_0.shape) * noise)\n",
        "\n",
        "        x_recon = self.model(torch.cat([x_t, condition], dim=1), t)\n",
        "\n",
        "        loss = F.mse_loss(x_recon, noise, reduction='none').mean()\n",
        "        return loss\n",
        "\n",
        "\n",
        "class GaussianDiffusionSampler(nn.Module):\n",
        "    def __init__(self, model, beta_1, beta_T, T, img_size=32,\n",
        "                 mean_type='epsilon', var_type='fixedlarge'):\n",
        "        assert mean_type in ['xprev' 'xstart', 'epsilon']\n",
        "        assert var_type in ['fixedlarge', 'fixedsmall']\n",
        "        super().__init__()\n",
        "\n",
        "        self.model = model\n",
        "        self.T = T\n",
        "        self.img_size = img_size\n",
        "        self.mean_type = mean_type\n",
        "        self.var_type = var_type\n",
        "\n",
        "        self.register_buffer(\n",
        "            'betas', torch.linspace(beta_1, beta_T, T).double())\n",
        "        alphas = 1. - self.betas\n",
        "        alphas_bar = torch.cumprod(alphas, dim=0)\n",
        "        alphas_bar_prev = F.pad(alphas_bar, [1, 0], value=1)[:T]\n",
        "\n",
        "        # calculations for diffusion q(x_t | x_{t-1}) and others\n",
        "        self.register_buffer(\n",
        "            'sqrt_recip_alphas_bar', torch.sqrt(1. / alphas_bar))\n",
        "        self.register_buffer(\n",
        "            'sqrt_recipm1_alphas_bar', torch.sqrt(1. / alphas_bar - 1))\n",
        "\n",
        "        # calculations for posterior q(x_{t-1} | x_t, x_0)\n",
        "        self.register_buffer(\n",
        "            'posterior_var',\n",
        "            self.betas * (1. - alphas_bar_prev) / (1. - alphas_bar))\n",
        "        # below: log calculation clipped because the posterior variance is 0 at\n",
        "        # the beginning of the diffusion chain\n",
        "        self.register_buffer(\n",
        "            'posterior_log_var_clipped',\n",
        "            torch.log(\n",
        "                torch.cat([self.posterior_var[1:2], self.posterior_var[1:]])))\n",
        "        self.register_buffer(\n",
        "            'posterior_mean_coef1',\n",
        "            torch.sqrt(alphas_bar_prev) * self.betas / (1. - alphas_bar))\n",
        "        self.register_buffer(\n",
        "            'posterior_mean_coef2',\n",
        "            torch.sqrt(alphas) * (1. - alphas_bar_prev) / (1. - alphas_bar))\n",
        "\n",
        "    def q_mean_variance(self, x_0, x_t, t):\n",
        "        \"\"\"\n",
        "        Compute the mean and variance of the diffusion posterior\n",
        "        q(x_{t-1} | x_t, x_0)\n",
        "        \"\"\"\n",
        "        assert x_0.shape == x_t.shape\n",
        "        posterior_mean = (\n",
        "            extract(self.posterior_mean_coef1, t, x_t.shape) * x_0 +\n",
        "            extract(self.posterior_mean_coef2, t, x_t.shape) * x_t\n",
        "        )\n",
        "        posterior_log_var_clipped = extract(\n",
        "            self.posterior_log_var_clipped, t, x_t.shape)\n",
        "        return posterior_mean, posterior_log_var_clipped\n",
        "\n",
        "    def predict_xstart_from_eps(self, x_t, t, eps):\n",
        "        assert x_t.shape == eps.shape\n",
        "        return (\n",
        "            extract(self.sqrt_recip_alphas_bar, t, x_t.shape) * x_t -\n",
        "            extract(self.sqrt_recipm1_alphas_bar, t, x_t.shape) * eps\n",
        "        )\n",
        "\n",
        "    def predict_xstart_from_xprev(self, x_t, t, xprev):\n",
        "        assert x_t.shape == xprev.shape\n",
        "        return (  # (xprev - coef2*x_t) / coef1\n",
        "            extract(\n",
        "                1. / self.posterior_mean_coef1, t, x_t.shape) * xprev -\n",
        "            extract(\n",
        "                self.posterior_mean_coef2 / self.posterior_mean_coef1, t,\n",
        "                x_t.shape) * x_t\n",
        "        )\n",
        "\n",
        "    def p_mean_variance(self, x_t, condition, t):\n",
        "        # below: only log_variance is used in the KL computations\n",
        "        # model_log_var = {\n",
        "        #     # for fixedlarge, we set the initial (log-)variance like so to\n",
        "        #     # get a better decoder log likelihood\n",
        "        #     'fixedlarge': torch.log(torch.cat([self.posterior_var[1:2],\n",
        "        #                                        self.betas[1:]])),\n",
        "        #     'fixedsmall': self.posterior_log_var_clipped,\n",
        "        # }[self.var_type]\n",
        "        # model_log_var = extract(model_log_var, t, x_t.shape)\n",
        "\n",
        "        # Mean parameterization\n",
        "        if self.mean_type == 'xprev':       # the model predicts x_{t-1}\n",
        "            x_prev = self.model(x_t, t)\n",
        "            x_0 = self.predict_xstart_from_xprev(x_t, t, xprev=x_prev)\n",
        "            model_mean = x_prev\n",
        "        elif self.mean_type == 'xstart':    # the model predicts x_0\n",
        "            x_0 = self.model(x_t, t)\n",
        "            model_mean, _ = self.q_mean_variance(x_0, x_t, t)\n",
        "        elif self.mean_type == 'epsilon':   # the model predicts epsilon\n",
        "            eps = self.model(torch.cat([x_t, condition], dim=1), t)\n",
        "            x_0 = self.predict_xstart_from_eps(x_t, t, eps=eps)\n",
        "            # model_mean, _ = self.q_mean_variance(x_0, x_t, t)\n",
        "        else:\n",
        "            raise NotImplementedError(self.mean_type)\n",
        "        x_0 = torch.clamp(x_0, 0., 1.)\n",
        "        model_mean, model_log_var = self.q_mean_variance(x_0, x_t, t)\n",
        "\n",
        "        return model_mean, model_log_var\n",
        "\n",
        "    def forward(self, x_T, condition):\n",
        "        \"\"\"\n",
        "        Algorithm 2.\n",
        "        \"\"\"\n",
        "        out = []\n",
        "        x_t = x_T\n",
        "        for time_step in reversed(range(self.T)):\n",
        "            t = x_t.new_ones([x_T.shape[0], ], dtype=torch.long) * time_step\n",
        "            mean, log_var = self.p_mean_variance(x_t=x_t, condition=condition, t=t)\n",
        "            # no noise when t == 0\n",
        "            if time_step > 0:\n",
        "                noise = torch.randn_like(x_t)\n",
        "            else:\n",
        "                noise = 0\n",
        "            x_t = mean + torch.exp(0.5 * log_var) * noise\n",
        "\n",
        "            if time_step == (self.T-1):\n",
        "                out.append(x_t)\n",
        "\n",
        "            if time_step % 250 == 0:\n",
        "                out.append(x_t)\n",
        "\n",
        "        return out"
      ]
    },
    {
      "cell_type": "code",
      "execution_count": 17,
      "metadata": {
        "id": "29GQvLPtV6hu"
      },
      "outputs": [],
      "source": [
        "# model.py DDPM folder\n",
        "import torch\n",
        "from torch import nn\n",
        "from torch.nn import init\n",
        "from torch.nn import functional as F\n",
        "from torchvision import models\n",
        "from collections import namedtuple\n",
        "import numpy as np\n",
        "\n",
        "\n",
        "class Swish(nn.Module):\n",
        "    def forward(self, x):\n",
        "        return x * torch.sigmoid(x)\n",
        "\n",
        "\n",
        "class TimeEmbedding(nn.Module):\n",
        "    def __init__(self, embed_dim, scale=30.):\n",
        "        super().__init__()\n",
        "        # Randomly sample weights druing initialization. These weights are fixed\n",
        "        # during optimization and are not trainable.\n",
        "        self.W = nn.Parameter(torch.randn(embed_dim // 2) * scale, requires_grad=False)\n",
        "\n",
        "    def forward(self, x):\n",
        "        x_proj = x[:, None] * self.W[None, :].to(x.device) * 2 * np.pi\n",
        "        return torch.cat([torch.sin(x_proj), torch.cos(x_proj)], dim=-1)\n",
        "\n",
        "\n",
        "class DownSample(nn.Module):\n",
        "    def __init__(self, in_ch):\n",
        "        super().__init__()\n",
        "        self.main = nn.Conv2d(in_ch, in_ch, 3, stride=2, padding=1)\n",
        "        self.initialize()\n",
        "\n",
        "    def initialize(self):\n",
        "        init.xavier_uniform_(self.main.weight)\n",
        "        init.zeros_(self.main.bias)\n",
        "\n",
        "    def forward(self, x, temb):\n",
        "        x = self.main(x)\n",
        "        return x\n",
        "\n",
        "\n",
        "class UpSample(nn.Module):\n",
        "    def __init__(self, in_ch):\n",
        "        super().__init__()\n",
        "        self.main = nn.Conv2d(in_ch, in_ch, 3, stride=1, padding=1)\n",
        "        self.initialize()\n",
        "\n",
        "    def initialize(self):\n",
        "        init.xavier_uniform_(self.main.weight)\n",
        "        init.zeros_(self.main.bias)\n",
        "\n",
        "    def forward(self, x, temb):\n",
        "        _, _, H, W = x.shape\n",
        "        x = F.interpolate(\n",
        "            x, scale_factor=2, mode='nearest')\n",
        "        x = self.main(x)\n",
        "        return x\n",
        "\n",
        "\n",
        "class AttnBlock(nn.Module):\n",
        "    def __init__(self, in_ch):\n",
        "        super().__init__()\n",
        "        self.group_norm = nn.GroupNorm(32, in_ch)\n",
        "        self.proj_q = nn.Conv2d(in_ch, in_ch, 1, stride=1, padding=0)\n",
        "        self.proj_k = nn.Conv2d(in_ch, in_ch, 1, stride=1, padding=0)\n",
        "        self.proj_v = nn.Conv2d(in_ch, in_ch, 1, stride=1, padding=0)\n",
        "        self.proj = nn.Conv2d(in_ch, in_ch, 1, stride=1, padding=0)\n",
        "        self.initialize()\n",
        "\n",
        "    def initialize(self):\n",
        "        for module in [self.proj_q, self.proj_k, self.proj_v, self.proj]:\n",
        "            init.xavier_uniform_(module.weight)\n",
        "            init.zeros_(module.bias)\n",
        "        init.xavier_uniform_(self.proj.weight, gain=1e-5)\n",
        "\n",
        "    def forward(self, x):\n",
        "        B, C, H, W = x.shape\n",
        "        h = self.group_norm(x)\n",
        "        q = self.proj_q(h)\n",
        "        k = self.proj_k(h)\n",
        "        v = self.proj_v(h)\n",
        "\n",
        "        q = q.permute(0, 2, 3, 1).view(B, H * W, C)\n",
        "        k = k.view(B, C, H * W)\n",
        "        w = torch.bmm(q, k) * (int(C) ** (-0.5))\n",
        "        assert list(w.shape) == [B, H * W, H * W]\n",
        "        w = F.softmax(w, dim=-1)\n",
        "\n",
        "        v = v.permute(0, 2, 3, 1).view(B, H * W, C)\n",
        "        h = torch.bmm(w, v)\n",
        "        assert list(h.shape) == [B, H * W, C]\n",
        "        h = h.view(B, H, W, C).permute(0, 3, 1, 2)\n",
        "        h = self.proj(h)\n",
        "\n",
        "        return x + h\n",
        "\n",
        "\n",
        "class ResBlock(nn.Module):\n",
        "    def __init__(self, in_ch, out_ch, tdim, dropout, attn=False):\n",
        "        super().__init__()\n",
        "        self.block1 = nn.Sequential(\n",
        "            nn.GroupNorm(32, in_ch),\n",
        "            Swish(),\n",
        "            nn.Conv2d(in_ch, out_ch, 3, stride=1, padding=1),\n",
        "        )\n",
        "        self.temb_proj = nn.Sequential(\n",
        "            Swish(),\n",
        "            nn.Linear(tdim, out_ch),\n",
        "        )\n",
        "        self.block2 = nn.Sequential(\n",
        "            nn.GroupNorm(32, out_ch),\n",
        "            Swish(),\n",
        "            nn.Dropout(dropout),\n",
        "            nn.Conv2d(out_ch, out_ch, 3, stride=1, padding=1),\n",
        "        )\n",
        "        if in_ch != out_ch:\n",
        "            self.shortcut = nn.Conv2d(in_ch, out_ch, 1, stride=1, padding=0)\n",
        "        else:\n",
        "            self.shortcut = nn.Identity()\n",
        "        if attn:\n",
        "            self.attn = AttnBlock(out_ch)\n",
        "        else:\n",
        "            self.attn = nn.Identity()\n",
        "        self.initialize()\n",
        "\n",
        "    def initialize(self):\n",
        "        for module in self.modules():\n",
        "            if isinstance(module, (nn.Conv2d, nn.Linear)):\n",
        "                init.xavier_uniform_(module.weight)\n",
        "                init.zeros_(module.bias)\n",
        "        init.xavier_uniform_(self.block2[-1].weight, gain=1e-5)\n",
        "\n",
        "    def forward(self, x, temb):\n",
        "        h = self.block1(x) # [batch, out_ch, h, w]\n",
        "        h += self.temb_proj(temb)[:, :, None, None] # [batch, out_ch, :, :]\n",
        "        h = self.block2(h) # [batch, out_ch, h, w]\n",
        "\n",
        "        h = h + self.shortcut(x)\n",
        "        h = self.attn(h)\n",
        "        return h\n",
        "\n",
        "\n",
        "class UNet(nn.Module):\n",
        "    def __init__(self, T, ch, ch_mult, attn, num_res_blocks, dropout):\n",
        "        super().__init__()\n",
        "        assert all([i < len(ch_mult) for i in attn]), 'attn index out of bound'\n",
        "        tdim = ch * 4\n",
        "        self.time_embedding = TimeEmbedding(tdim)\n",
        "        # self.time_embedding = TimeEmbedding(T, ch, tdim)\n",
        "\n",
        "        self.head = nn.Conv2d(2, ch, kernel_size=3, stride=1, padding=1)\n",
        "        self.downblocks = nn.ModuleList()\n",
        "        chs = [ch]  # record output channel when dowmsample for upsample\n",
        "        now_ch = ch\n",
        "        for i, mult in enumerate(ch_mult):\n",
        "            out_ch = ch * mult\n",
        "            for _ in range(num_res_blocks):\n",
        "                self.downblocks.append(ResBlock(\n",
        "                    in_ch=now_ch, out_ch=out_ch, tdim=tdim,\n",
        "                    dropout=dropout, attn=False))\n",
        "                now_ch = out_ch\n",
        "                chs.append(now_ch)\n",
        "            if i != len(ch_mult) - 1:\n",
        "                self.downblocks.append(DownSample(now_ch))\n",
        "                chs.append(now_ch)\n",
        "\n",
        "        self.middleblocks = nn.ModuleList([\n",
        "            ResBlock(now_ch, now_ch, tdim, dropout, attn=False),\n",
        "            ResBlock(now_ch, now_ch, tdim, dropout, attn=False),\n",
        "        ])\n",
        "\n",
        "        self.upblocks = nn.ModuleList()\n",
        "        for i, mult in reversed(list(enumerate(ch_mult))):\n",
        "            out_ch = ch * mult\n",
        "            for _ in range(num_res_blocks + 1):\n",
        "                self.upblocks.append(ResBlock(\n",
        "                    in_ch=chs.pop() + now_ch, out_ch=out_ch, tdim=tdim,\n",
        "                    dropout=dropout, attn=False))\n",
        "                now_ch = out_ch\n",
        "            if i != 0:\n",
        "                self.upblocks.append(UpSample(now_ch))\n",
        "        assert len(chs) == 0\n",
        "\n",
        "        self.tail = nn.Sequential(\n",
        "            nn.GroupNorm(32, now_ch),\n",
        "            Swish(),\n",
        "            nn.Conv2d(now_ch, 1, 3, stride=1, padding=1)\n",
        "        )\n",
        "        self.initialize()\n",
        "\n",
        "    def initialize(self):\n",
        "        init.xavier_uniform_(self.head.weight)\n",
        "        init.zeros_(self.head.bias)\n",
        "        init.xavier_uniform_(self.tail[-1].weight, gain=1e-5)\n",
        "        init.zeros_(self.tail[-1].bias)\n",
        "\n",
        "    def forward(self, x, t):  # t [batch,], x [batch,3,h,w]\n",
        "        # Timestep embedding\n",
        "        temb = self.time_embedding(t) # [batch, 128*4]\n",
        "        # Downsampling\n",
        "        h = self.head(x) # [batch,128,h,w]\n",
        "        hs = [h]\n",
        "        for layer in self.downblocks: # [res, res, down; res, res, down; res, res, down; res, res]\n",
        "            h = layer(h, temb)\n",
        "            hs.append(h)\n",
        "        # Middle\n",
        "        for layer in self.middleblocks: # [res, res]\n",
        "            h = layer(h, temb)\n",
        "        # Upsampling\n",
        "        for layer in self.upblocks: # [res,res,res; res,res,res,up; res,res,res,up; res,res,res,up]\n",
        "            if isinstance(layer, ResBlock):\n",
        "                h = torch.cat([h, hs.pop()], dim=1)\n",
        "            h = layer(h, temb)\n",
        "        h = self.tail(h)\n",
        "\n",
        "        assert len(hs) == 0\n",
        "        return h\n",
        "\n"
      ]
    },
    {
      "cell_type": "code",
      "execution_count": 18,
      "metadata": {
        "id": "-rXdmYq2V6hv"
      },
      "outputs": [],
      "source": [
        "# train.py DDPM folder\n",
        "import sys\n",
        "import copy\n",
        "import os\n",
        "import warnings\n",
        "import scipy.io as sio\n",
        "from absl import app, flags\n",
        "from tqdm import tqdm\n",
        "from matplotlib import pyplot as plt\n",
        "from matplotlib import gridspec\n",
        "\n",
        "import torch\n",
        "from torch.utils.data import DataLoader\n",
        "\n",
        "# from diffusion import GaussianDiffusionTrainer, GaussianDiffusionSampler\n",
        "# from model import UNet\n",
        "# from Dataset.dataset import Train_Data, Valid_Data\n",
        "\n",
        "\n",
        "train = True\n",
        "continue_train = False\n",
        "\n",
        "# UNet\n",
        "ch = 64\n",
        "ch_mult = [1, 2, 2, 4, 4]\n",
        "attn = [1]\n",
        "num_res_blocks = 2\n",
        "dropout = 0.\n",
        "\n",
        "# Gaussian Diffusion\n",
        "beta_1 = 1e-4\n",
        "beta_T = 0.02\n",
        "T = 1000\n",
        "\n",
        "# Training\n",
        "lr = 1e-4\n",
        "grad_clip = 1.\n",
        "img_size = 128\n",
        "batch_size = 2\n",
        "num_workers = 1\n",
        "ema_decay = 0.9999\n",
        "\n",
        "sample_size = 1\n",
        "max_epoch = 5000\n",
        "# max_epoch = 1\n",
        "\n",
        "epoch_mean_loss = max_epoch * [None]\n",
        "n_prev_epochs = 20\n",
        "# Logging & Sampling\n",
        "DIREC = f'ddpm-unet_epochs_{max_epoch}_n-train-samples_{n_train_new}_batch-size_{batch_size}_T_{T}_img-size_{img_size}_{k}fold_cross_validation'\n",
        "\n",
        "# device = torch.device('cuda:0')\n",
        "\n",
        "\n",
        "def ema(source, target, decay):\n",
        "    source_dict = source.state_dict()\n",
        "    target_dict = target.state_dict()\n",
        "    for key in source_dict.keys():\n",
        "        target_dict[key].data.copy_(\n",
        "            target_dict[key].data * decay +\n",
        "            source_dict[key].data * (1 - decay))\n",
        "\n",
        "def train(fold):\n",
        "    print(f'start training with fold number {fold}')\n",
        "\n",
        "    # dataset\n",
        "    tr_train = Train_Data(mr_path=f'mr_train_augmented{fold}.hdf5', ct_path=f'ct_train_augmented{fold}.hdf5')\n",
        "    trainloader = DataLoader(tr_train, batch_size=batch_size, num_workers=num_workers,\n",
        "                            pin_memory=True, shuffle=True)\n",
        "    va_train = Valid_Data(mr_path=f'mr_test{fold}.hdf5', ct_path=f'ct_test{fold}.hdf5')\n",
        "    validloader = DataLoader(va_train, batch_size=sample_size, num_workers=num_workers,\n",
        "                              pin_memory=True, shuffle=False)\n",
        "\n",
        "    # model setup\n",
        "    net_model = UNet(\n",
        "        T=T, ch=ch, ch_mult=ch_mult, attn=attn,\n",
        "        num_res_blocks=num_res_blocks, dropout=dropout)\n",
        "    ema_model = copy.deepcopy(net_model)\n",
        "\n",
        "\n",
        "    optim = torch.optim.Adam(net_model.parameters(), lr=lr)\n",
        "\n",
        "    trainer = GaussianDiffusionTrainer(\n",
        "        net_model, beta_1, beta_T, T).to(device)\n",
        "    ema_sampler = GaussianDiffusionSampler(\n",
        "        ema_model, beta_1, beta_T, T, img_size).to(device)\n",
        "\n",
        "\n",
        "    # show model size\n",
        "    model_size = 0\n",
        "    for param in net_model.parameters():\n",
        "        model_size += param.data.nelement()\n",
        "    print('Model params: %.2f M' % (model_size / 1024 / 1024))\n",
        "\n",
        "    if continue_train:\n",
        "        checkpoint = torch.load('./Save/' + DIREC + '/model_latest.pkl', map_location=\"cuda:0\")\n",
        "        net_model.load_state_dict(checkpoint['net_model'])\n",
        "        ema_model.load_state_dict(checkpoint['ema_model'])\n",
        "        optim.load_state_dict(checkpoint['optim'])\n",
        "        restore_epoch = checkpoint['epoch']\n",
        "        print('Finish loading model')\n",
        "    else:\n",
        "        restore_epoch = 0\n",
        "\n",
        "    if not os.path.exists('Loss'):\n",
        "        os.makedirs('Loss')\n",
        "\n",
        "    tr_ls = []\n",
        "    if continue_train:\n",
        "        readmat = sio.loadmat('./Loss/' + DIREC)\n",
        "        load_tr_ls = readmat['loss']\n",
        "        for i in range(restore_epoch):\n",
        "            tr_ls.append(load_tr_ls[0][i])\n",
        "        print('Finish loading loss!')\n",
        "\n",
        "    if not os.path.exists('./diff_results'):\n",
        "        os.makedirs('./diff_results')\n",
        "\n",
        "    for epoch in range(restore_epoch, max_epoch):\n",
        "        with tqdm(trainloader, unit=\"batch\") as tepoch:\n",
        "            tmp_tr_loss = 0\n",
        "            tr_sample = 0\n",
        "            net_model.train()\n",
        "            for data, target in tepoch:\n",
        "                tepoch.set_description(f\"Epoch {epoch+1}\")\n",
        "\n",
        "                # train\n",
        "                optim.zero_grad()\n",
        "                condition = data.to(device)\n",
        "                x_0 = target.to(device)\n",
        "\n",
        "                loss = trainer(x_0, condition)\n",
        "                tmp_tr_loss += loss.item()\n",
        "                tr_sample += len(data)\n",
        "\n",
        "                loss.backward()\n",
        "\n",
        "                torch.nn.utils.clip_grad_norm_(\n",
        "                    net_model.parameters(), grad_clip)\n",
        "                optim.step()\n",
        "                ema(net_model, ema_model, ema_decay)\n",
        "\n",
        "                tepoch.set_postfix({'Loss': loss.item()})\n",
        "\n",
        "        mean_loss = tmp_tr_loss / tr_sample\n",
        "        print('mean loss', mean_loss)\n",
        "\n",
        "        epoch_mean_loss[epoch] = mean_loss\n",
        "\n",
        "        if epoch > 100:\n",
        "          prev_mean_loss = 0\n",
        "\n",
        "          for i in range(n_prev_epochs):\n",
        "            prev_mean_loss += epoch_mean_loss[epoch - (i+1)]\n",
        "\n",
        "          prev_mean_loss /= n_prev_epochs\n",
        "          # print('number of samples: ', tr_sample)\n",
        "          # print('prev mean loss:', prev_mean_loss)\n",
        "          if mean_loss > (prev_mean_loss - 0.01*prev_mean_loss):\n",
        "            break\n",
        "\n",
        "        tr_ls.append(tmp_tr_loss / tr_sample)\n",
        "        sio.savemat('./Loss/' + DIREC +'.mat', {'loss': tr_ls})\n",
        "\n",
        "        if not os.path.exists('Train_Output/' + DIREC):\n",
        "            os.makedirs('Train_Output/' + DIREC)\n",
        "        net_model.eval()\n",
        "        if ((epoch+1) % 5 == 0) and (epoch+1) >= 80:\n",
        "        # if epoch == 0:\n",
        "            with torch.no_grad():\n",
        "                for batch_idx, (data, target) in enumerate(validloader):\n",
        "                    # if batch_idx == 0:\n",
        "                        x_T = torch.randn(sample_size, 1, img_size, img_size)\n",
        "                        x_T = x_T.to(device)\n",
        "\n",
        "                        condition = data.to(device)\n",
        "                        x_0 = ema_sampler(x_T, condition)\n",
        "\n",
        "                        diff_out = x_0[-1]\n",
        "                        diff_out = np.array(diff_out.cpu())\n",
        "\n",
        "                        # x_0_copy = len(x_0) * [None]\n",
        "\n",
        "                        # for i, img in enumerate(x_0):\n",
        "                        #     img = np.array(img.cpu())\n",
        "                        #     x_0_copy[i] = img\n",
        "\n",
        "                        # x_0_copy = np.array(x_0_copy)\n",
        "                        if not os.path.exists(f'./diff_results/fold{fold}'):\n",
        "                          os.makedirs(f'./diff_results/fold{fold}')\n",
        "                        save_path = f'./diff_results/fold{fold}/x0_number_{batch_idx+1}_epoch_{epoch+1}.npy'\n",
        "                        np.save(save_path, diff_out)\n",
        "\n",
        "                        # fig = plt.figure()\n",
        "                        # fig.set_figheight(8)\n",
        "                        # fig.set_figwidth(28)\n",
        "                        # spec = gridspec.GridSpec(ncols=7, nrows=2,\n",
        "                        #       width_ratios=[1,1,1,1,1,1,1], wspace=0.01,\n",
        "                        #       hspace=0.01, height_ratios=[1,1],left=0,right=1,top=1,bottom=0)\n",
        "\n",
        "                        # img = data[0].data.squeeze()\n",
        "                        # ax = fig.add_subplot(spec[0])\n",
        "                        # ax.imshow(img, cmap='gray', vmin=0,vmax=1)\n",
        "                        # ax.axis('off')\n",
        "                        # # img = data[1].data.squeeze()\n",
        "                        # # ax = fig.add_subplot(spec[7])\n",
        "                        # # ax.imshow(img, cmap='gray', vmin=0,vmax=1)\n",
        "                        # # ax.axis('off')\n",
        "\n",
        "                        # count = 1\n",
        "                        # for kk in range(5): # x_0 [5,b,1,h,w]\n",
        "                        #     imgs = x_0[kk] # imgs [b,1,h,w]\n",
        "                        #     img = imgs[0].data.squeeze().cpu()\n",
        "                        #     ax = fig.add_subplot(spec[count])\n",
        "                        #     ax.imshow(img, cmap='gray', vmin=0,vmax=1)\n",
        "                        #     ax.axis('off')\n",
        "\n",
        "                        #     # imgs = x_0[kk] # imgs [b,1,h,w]\n",
        "                        #     # img = imgs[1].data.squeeze().cpu()\n",
        "                        #     # ax = fig.add_subplot(spec[count+7])\n",
        "                        #     # ax.imshow(img, cmap='gray', vmin=0,vmax=1)\n",
        "                        #     # ax.axis('off')\n",
        "\n",
        "                        #     count += 1\n",
        "\n",
        "                        # img = target[0].data.squeeze().cpu()\n",
        "                        # ax = fig.add_subplot(spec[6])\n",
        "                        # ax.imshow(img, cmap='gray', vmin=0,vmax=1)\n",
        "                        # ax.axis('off')\n",
        "                        # # img = target[1].data.squeeze().cpu()\n",
        "                        # # ax = fig.add_subplot(spec[13])\n",
        "                        # # ax.imshow(img, cmap='gray', vmin=0,vmax=1)\n",
        "                        # # ax.axis('off')\n",
        "\n",
        "                        plt.savefig('./Train_Output/'+ DIREC + '/Epoch_' + str(epoch+1) + '.png',\n",
        "                                    bbox_inches='tight', pad_inches=0)\n",
        "\n",
        "                        # if not os.path.exists('Saved_model'):\n",
        "                        #    os.makedirs('Saved_model')\n",
        "\n",
        "                        # torch.save(ema_model.state_dict(), f'./Saved_model/ema_model_epoch_{epoch+1}.pt')\n",
        "\n",
        "        # # save\n",
        "        # if not os.path.exists('Save/' + DIREC):\n",
        "        #     os.makedirs('Save/' + DIREC)\n",
        "        # ckpt = {\n",
        "        #     'net_model': net_model.state_dict(),\n",
        "        #     'ema_model': ema_model.state_dict(),\n",
        "        #     'optim': optim.state_dict(),\n",
        "        #     'epoch': epoch+1,\n",
        "        #     # 'x_T': x_T,\n",
        "        # }\n",
        "        # if (epoch+1) % 2 == 0:\n",
        "        #     torch.save(ckpt, './Save/' + DIREC + '/model_epoch_'+str(epoch+1)+'.pkl')\n",
        "        # torch.save(ckpt, './Save/' + DIREC + '/model_latest.pkl')"
      ]
    },
    {
      "cell_type": "code",
      "source": [
        "train(fold=1)\n",
        "# train(fold=2)\n",
        "# train(fold=3)\n",
        "# train(fold=4)\n",
        "# train(fold=5)"
      ],
      "metadata": {
        "id": "KmCvRflhIDXp",
        "colab": {
          "base_uri": "https://localhost:8080/",
          "height": 1000
        },
        "outputId": "aca8a581-cf4c-4aef-f3d6-ca83e66ee014"
      },
      "execution_count": 19,
      "outputs": [
        {
          "output_type": "stream",
          "name": "stdout",
          "text": [
            "start training with fold number 1\n",
            "Model params: 24.91 M\n"
          ]
        },
        {
          "output_type": "stream",
          "name": "stderr",
          "text": [
            "Epoch 1: 100%|██████████| 800/800 [02:01<00:00,  6.60batch/s, Loss=0.00659]\n"
          ]
        },
        {
          "output_type": "stream",
          "name": "stdout",
          "text": [
            "mean loss 0.031583229691314045\n"
          ]
        },
        {
          "output_type": "stream",
          "name": "stderr",
          "text": [
            "Epoch 2: 100%|██████████| 800/800 [01:48<00:00,  7.36batch/s, Loss=0.0124]\n"
          ]
        },
        {
          "output_type": "stream",
          "name": "stdout",
          "text": [
            "mean loss 0.004729625778818445\n"
          ]
        },
        {
          "output_type": "stream",
          "name": "stderr",
          "text": [
            "Epoch 3: 100%|██████████| 800/800 [01:49<00:00,  7.30batch/s, Loss=0.00127]\n"
          ]
        },
        {
          "output_type": "stream",
          "name": "stdout",
          "text": [
            "mean loss 0.004034085877956386\n"
          ]
        },
        {
          "output_type": "stream",
          "name": "stderr",
          "text": [
            "Epoch 4: 100%|██████████| 800/800 [01:49<00:00,  7.33batch/s, Loss=0.00608]\n"
          ]
        },
        {
          "output_type": "stream",
          "name": "stdout",
          "text": [
            "mean loss 0.003955395894627145\n"
          ]
        },
        {
          "output_type": "stream",
          "name": "stderr",
          "text": [
            "Epoch 5: 100%|██████████| 800/800 [01:50<00:00,  7.26batch/s, Loss=0.00113]\n"
          ]
        },
        {
          "output_type": "stream",
          "name": "stdout",
          "text": [
            "mean loss 0.003502561546101788\n"
          ]
        },
        {
          "output_type": "stream",
          "name": "stderr",
          "text": [
            "Epoch 6: 100%|██████████| 800/800 [01:51<00:00,  7.17batch/s, Loss=0.00194]\n"
          ]
        },
        {
          "output_type": "stream",
          "name": "stdout",
          "text": [
            "mean loss 0.0028635326533549233\n"
          ]
        },
        {
          "output_type": "stream",
          "name": "stderr",
          "text": [
            "Epoch 7: 100%|██████████| 800/800 [01:51<00:00,  7.20batch/s, Loss=0.0389]\n"
          ]
        },
        {
          "output_type": "stream",
          "name": "stdout",
          "text": [
            "mean loss 0.003282785247774882\n"
          ]
        },
        {
          "output_type": "stream",
          "name": "stderr",
          "text": [
            "Epoch 8: 100%|██████████| 800/800 [01:50<00:00,  7.27batch/s, Loss=0.002]\n"
          ]
        },
        {
          "output_type": "stream",
          "name": "stdout",
          "text": [
            "mean loss 0.0030446499165373096\n"
          ]
        },
        {
          "output_type": "stream",
          "name": "stderr",
          "text": [
            "Epoch 9: 100%|██████████| 800/800 [01:48<00:00,  7.37batch/s, Loss=0.0201]\n"
          ]
        },
        {
          "output_type": "stream",
          "name": "stdout",
          "text": [
            "mean loss 0.0026268359334790147\n"
          ]
        },
        {
          "output_type": "stream",
          "name": "stderr",
          "text": [
            "Epoch 10: 100%|██████████| 800/800 [01:48<00:00,  7.34batch/s, Loss=0.00321]\n"
          ]
        },
        {
          "output_type": "stream",
          "name": "stdout",
          "text": [
            "mean loss 0.002866665845795069\n"
          ]
        },
        {
          "output_type": "stream",
          "name": "stderr",
          "text": [
            "Epoch 11: 100%|██████████| 800/800 [01:48<00:00,  7.36batch/s, Loss=0.00186]\n"
          ]
        },
        {
          "output_type": "stream",
          "name": "stdout",
          "text": [
            "mean loss 0.0026417492241671424\n"
          ]
        },
        {
          "output_type": "stream",
          "name": "stderr",
          "text": [
            "Epoch 12: 100%|██████████| 800/800 [01:48<00:00,  7.37batch/s, Loss=0.0128]\n"
          ]
        },
        {
          "output_type": "stream",
          "name": "stdout",
          "text": [
            "mean loss 0.0023039758836966937\n"
          ]
        },
        {
          "output_type": "stream",
          "name": "stderr",
          "text": [
            "Epoch 13: 100%|██████████| 800/800 [01:47<00:00,  7.43batch/s, Loss=0.00622]\n"
          ]
        },
        {
          "output_type": "stream",
          "name": "stdout",
          "text": [
            "mean loss 0.0024977922707239484\n"
          ]
        },
        {
          "output_type": "stream",
          "name": "stderr",
          "text": [
            "Epoch 14: 100%|██████████| 800/800 [01:48<00:00,  7.39batch/s, Loss=0.000402]\n"
          ]
        },
        {
          "output_type": "stream",
          "name": "stdout",
          "text": [
            "mean loss 0.0025094495856683354\n"
          ]
        },
        {
          "output_type": "stream",
          "name": "stderr",
          "text": [
            "Epoch 15: 100%|██████████| 800/800 [01:48<00:00,  7.40batch/s, Loss=0.00208]\n"
          ]
        },
        {
          "output_type": "stream",
          "name": "stdout",
          "text": [
            "mean loss 0.0023804175631084944\n"
          ]
        },
        {
          "output_type": "stream",
          "name": "stderr",
          "text": [
            "Epoch 16: 100%|██████████| 800/800 [01:48<00:00,  7.38batch/s, Loss=0.000518]\n"
          ]
        },
        {
          "output_type": "stream",
          "name": "stdout",
          "text": [
            "mean loss 0.002020537058942864\n"
          ]
        },
        {
          "output_type": "stream",
          "name": "stderr",
          "text": [
            "Epoch 17: 100%|██████████| 800/800 [01:48<00:00,  7.38batch/s, Loss=0.000729]\n"
          ]
        },
        {
          "output_type": "stream",
          "name": "stdout",
          "text": [
            "mean loss 0.0024312711718266653\n"
          ]
        },
        {
          "output_type": "stream",
          "name": "stderr",
          "text": [
            "Epoch 18: 100%|██████████| 800/800 [01:47<00:00,  7.42batch/s, Loss=0.000522]\n"
          ]
        },
        {
          "output_type": "stream",
          "name": "stdout",
          "text": [
            "mean loss 0.0018258366503050639\n"
          ]
        },
        {
          "output_type": "stream",
          "name": "stderr",
          "text": [
            "Epoch 19: 100%|██████████| 800/800 [01:48<00:00,  7.37batch/s, Loss=0.000643]\n"
          ]
        },
        {
          "output_type": "stream",
          "name": "stdout",
          "text": [
            "mean loss 0.0022498922423073962\n"
          ]
        },
        {
          "output_type": "stream",
          "name": "stderr",
          "text": [
            "Epoch 20: 100%|██████████| 800/800 [01:48<00:00,  7.37batch/s, Loss=0.000402]\n"
          ]
        },
        {
          "output_type": "stream",
          "name": "stdout",
          "text": [
            "mean loss 0.0019968558058644703\n"
          ]
        },
        {
          "output_type": "stream",
          "name": "stderr",
          "text": [
            "Epoch 21: 100%|██████████| 800/800 [01:48<00:00,  7.39batch/s, Loss=0.000345]\n"
          ]
        },
        {
          "output_type": "stream",
          "name": "stdout",
          "text": [
            "mean loss 0.0019891129445750266\n"
          ]
        },
        {
          "output_type": "stream",
          "name": "stderr",
          "text": [
            "Epoch 22: 100%|██████████| 800/800 [01:48<00:00,  7.41batch/s, Loss=0.000331]\n"
          ]
        },
        {
          "output_type": "stream",
          "name": "stdout",
          "text": [
            "mean loss 0.001975130588589309\n"
          ]
        },
        {
          "output_type": "stream",
          "name": "stderr",
          "text": [
            "Epoch 23: 100%|██████████| 800/800 [01:48<00:00,  7.37batch/s, Loss=0.0148]\n"
          ]
        },
        {
          "output_type": "stream",
          "name": "stdout",
          "text": [
            "mean loss 0.0017294887246862346\n"
          ]
        },
        {
          "output_type": "stream",
          "name": "stderr",
          "text": [
            "Epoch 24: 100%|██████████| 800/800 [01:48<00:00,  7.36batch/s, Loss=0.01]\n"
          ]
        },
        {
          "output_type": "stream",
          "name": "stdout",
          "text": [
            "mean loss 0.0019532144355616766\n"
          ]
        },
        {
          "output_type": "stream",
          "name": "stderr",
          "text": [
            "Epoch 25: 100%|██████████| 800/800 [01:49<00:00,  7.33batch/s, Loss=0.00107]\n"
          ]
        },
        {
          "output_type": "stream",
          "name": "stdout",
          "text": [
            "mean loss 0.0018645953183659004\n"
          ]
        },
        {
          "output_type": "stream",
          "name": "stderr",
          "text": [
            "Epoch 26: 100%|██████████| 800/800 [01:49<00:00,  7.33batch/s, Loss=0.000436]\n"
          ]
        },
        {
          "output_type": "stream",
          "name": "stdout",
          "text": [
            "mean loss 0.0020258101488980175\n"
          ]
        },
        {
          "output_type": "stream",
          "name": "stderr",
          "text": [
            "Epoch 27: 100%|██████████| 800/800 [01:49<00:00,  7.34batch/s, Loss=0.00081]\n"
          ]
        },
        {
          "output_type": "stream",
          "name": "stdout",
          "text": [
            "mean loss 0.0018269308419166918\n"
          ]
        },
        {
          "output_type": "stream",
          "name": "stderr",
          "text": [
            "Epoch 28: 100%|██████████| 800/800 [01:48<00:00,  7.39batch/s, Loss=0.000451]\n"
          ]
        },
        {
          "output_type": "stream",
          "name": "stdout",
          "text": [
            "mean loss 0.001807856478562826\n"
          ]
        },
        {
          "output_type": "stream",
          "name": "stderr",
          "text": [
            "Epoch 29: 100%|██████████| 800/800 [01:49<00:00,  7.33batch/s, Loss=0.000379]\n"
          ]
        },
        {
          "output_type": "stream",
          "name": "stdout",
          "text": [
            "mean loss 0.001825720639071733\n"
          ]
        },
        {
          "output_type": "stream",
          "name": "stderr",
          "text": [
            "Epoch 30: 100%|██████████| 800/800 [01:49<00:00,  7.34batch/s, Loss=0.00114]\n"
          ]
        },
        {
          "output_type": "stream",
          "name": "stdout",
          "text": [
            "mean loss 0.0017454032352543435\n"
          ]
        },
        {
          "output_type": "stream",
          "name": "stderr",
          "text": [
            "Epoch 31: 100%|██████████| 800/800 [01:49<00:00,  7.32batch/s, Loss=0.00044]\n"
          ]
        },
        {
          "output_type": "stream",
          "name": "stdout",
          "text": [
            "mean loss 0.0013861087388795568\n"
          ]
        },
        {
          "output_type": "stream",
          "name": "stderr",
          "text": [
            "Epoch 32: 100%|██████████| 800/800 [01:48<00:00,  7.37batch/s, Loss=0.000885]\n"
          ]
        },
        {
          "output_type": "stream",
          "name": "stdout",
          "text": [
            "mean loss 0.0016383030939232412\n"
          ]
        },
        {
          "output_type": "stream",
          "name": "stderr",
          "text": [
            "Epoch 33: 100%|██████████| 800/800 [01:49<00:00,  7.32batch/s, Loss=0.00151]\n"
          ]
        },
        {
          "output_type": "stream",
          "name": "stdout",
          "text": [
            "mean loss 0.001830481382689868\n"
          ]
        },
        {
          "output_type": "stream",
          "name": "stderr",
          "text": [
            "Epoch 34: 100%|██████████| 800/800 [01:48<00:00,  7.38batch/s, Loss=0.000212]\n"
          ]
        },
        {
          "output_type": "stream",
          "name": "stdout",
          "text": [
            "mean loss 0.0016369381387767135\n"
          ]
        },
        {
          "output_type": "stream",
          "name": "stderr",
          "text": [
            "Epoch 35: 100%|██████████| 800/800 [01:49<00:00,  7.33batch/s, Loss=0.00135]\n"
          ]
        },
        {
          "output_type": "stream",
          "name": "stdout",
          "text": [
            "mean loss 0.0016922141469740382\n"
          ]
        },
        {
          "output_type": "stream",
          "name": "stderr",
          "text": [
            "Epoch 36: 100%|██████████| 800/800 [01:49<00:00,  7.32batch/s, Loss=0.00117]\n"
          ]
        },
        {
          "output_type": "stream",
          "name": "stdout",
          "text": [
            "mean loss 0.0016102516536602707\n"
          ]
        },
        {
          "output_type": "stream",
          "name": "stderr",
          "text": [
            "Epoch 37: 100%|██████████| 800/800 [01:48<00:00,  7.35batch/s, Loss=0.00657]\n"
          ]
        },
        {
          "output_type": "stream",
          "name": "stdout",
          "text": [
            "mean loss 0.0017417962085619365\n"
          ]
        },
        {
          "output_type": "stream",
          "name": "stderr",
          "text": [
            "Epoch 38: 100%|██████████| 800/800 [01:48<00:00,  7.35batch/s, Loss=0.00114]\n"
          ]
        },
        {
          "output_type": "stream",
          "name": "stdout",
          "text": [
            "mean loss 0.001482838370943682\n"
          ]
        },
        {
          "output_type": "stream",
          "name": "stderr",
          "text": [
            "Epoch 39: 100%|██████████| 800/800 [01:47<00:00,  7.41batch/s, Loss=0.00811]\n"
          ]
        },
        {
          "output_type": "stream",
          "name": "stdout",
          "text": [
            "mean loss 0.0018518234150542412\n"
          ]
        },
        {
          "output_type": "stream",
          "name": "stderr",
          "text": [
            "Epoch 40: 100%|██████████| 800/800 [01:48<00:00,  7.40batch/s, Loss=0.00209]\n"
          ]
        },
        {
          "output_type": "stream",
          "name": "stdout",
          "text": [
            "mean loss 0.0016218706665813442\n"
          ]
        },
        {
          "output_type": "stream",
          "name": "stderr",
          "text": [
            "Epoch 41: 100%|██████████| 800/800 [01:48<00:00,  7.35batch/s, Loss=0.000865]\n"
          ]
        },
        {
          "output_type": "stream",
          "name": "stdout",
          "text": [
            "mean loss 0.0015282519900347324\n"
          ]
        },
        {
          "output_type": "stream",
          "name": "stderr",
          "text": [
            "Epoch 42: 100%|██████████| 800/800 [01:48<00:00,  7.38batch/s, Loss=0.000426]\n"
          ]
        },
        {
          "output_type": "stream",
          "name": "stdout",
          "text": [
            "mean loss 0.0015755365500399422\n"
          ]
        },
        {
          "output_type": "stream",
          "name": "stderr",
          "text": [
            "Epoch 43: 100%|██████████| 800/800 [01:48<00:00,  7.38batch/s, Loss=0.00044]\n"
          ]
        },
        {
          "output_type": "stream",
          "name": "stdout",
          "text": [
            "mean loss 0.001523303777748879\n"
          ]
        },
        {
          "output_type": "stream",
          "name": "stderr",
          "text": [
            "Epoch 44: 100%|██████████| 800/800 [01:49<00:00,  7.33batch/s, Loss=0.00142]\n"
          ]
        },
        {
          "output_type": "stream",
          "name": "stdout",
          "text": [
            "mean loss 0.001390840940516682\n"
          ]
        },
        {
          "output_type": "stream",
          "name": "stderr",
          "text": [
            "Epoch 45: 100%|██████████| 800/800 [01:48<00:00,  7.36batch/s, Loss=0.0003]\n"
          ]
        },
        {
          "output_type": "stream",
          "name": "stdout",
          "text": [
            "mean loss 0.0014794752286479706\n"
          ]
        },
        {
          "output_type": "stream",
          "name": "stderr",
          "text": [
            "Epoch 46: 100%|██████████| 800/800 [01:49<00:00,  7.32batch/s, Loss=0.000583]\n"
          ]
        },
        {
          "output_type": "stream",
          "name": "stdout",
          "text": [
            "mean loss 0.001547832161822953\n"
          ]
        },
        {
          "output_type": "stream",
          "name": "stderr",
          "text": [
            "Epoch 47: 100%|██████████| 800/800 [01:50<00:00,  7.25batch/s, Loss=0.00121]\n"
          ]
        },
        {
          "output_type": "stream",
          "name": "stdout",
          "text": [
            "mean loss 0.0018479745287413606\n"
          ]
        },
        {
          "output_type": "stream",
          "name": "stderr",
          "text": [
            "Epoch 48: 100%|██████████| 800/800 [01:50<00:00,  7.27batch/s, Loss=0.000193]\n"
          ]
        },
        {
          "output_type": "stream",
          "name": "stdout",
          "text": [
            "mean loss 0.0014754251098474925\n"
          ]
        },
        {
          "output_type": "stream",
          "name": "stderr",
          "text": [
            "Epoch 49: 100%|██████████| 800/800 [01:49<00:00,  7.30batch/s, Loss=0.00659]\n"
          ]
        },
        {
          "output_type": "stream",
          "name": "stdout",
          "text": [
            "mean loss 0.0015835173780124024\n"
          ]
        },
        {
          "output_type": "stream",
          "name": "stderr",
          "text": [
            "Epoch 50: 100%|██████████| 800/800 [01:49<00:00,  7.33batch/s, Loss=0.00054]\n"
          ]
        },
        {
          "output_type": "stream",
          "name": "stdout",
          "text": [
            "mean loss 0.0016466270042928954\n"
          ]
        },
        {
          "output_type": "stream",
          "name": "stderr",
          "text": [
            "Epoch 51: 100%|██████████| 800/800 [01:48<00:00,  7.35batch/s, Loss=0.00288]\n"
          ]
        },
        {
          "output_type": "stream",
          "name": "stdout",
          "text": [
            "mean loss 0.0012378155562782923\n"
          ]
        },
        {
          "output_type": "stream",
          "name": "stderr",
          "text": [
            "Epoch 52: 100%|██████████| 800/800 [01:49<00:00,  7.34batch/s, Loss=0.00134]\n"
          ]
        },
        {
          "output_type": "stream",
          "name": "stdout",
          "text": [
            "mean loss 0.0015370240016773097\n"
          ]
        },
        {
          "output_type": "stream",
          "name": "stderr",
          "text": [
            "Epoch 53: 100%|██████████| 800/800 [01:48<00:00,  7.38batch/s, Loss=0.00166]\n"
          ]
        },
        {
          "output_type": "stream",
          "name": "stdout",
          "text": [
            "mean loss 0.0014859065223936342\n"
          ]
        },
        {
          "output_type": "stream",
          "name": "stderr",
          "text": [
            "Epoch 54: 100%|██████████| 800/800 [01:48<00:00,  7.35batch/s, Loss=0.000132]\n"
          ]
        },
        {
          "output_type": "stream",
          "name": "stdout",
          "text": [
            "mean loss 0.001401144995870709\n"
          ]
        },
        {
          "output_type": "stream",
          "name": "stderr",
          "text": [
            "Epoch 55: 100%|██████████| 800/800 [01:48<00:00,  7.35batch/s, Loss=0.000614]\n"
          ]
        },
        {
          "output_type": "stream",
          "name": "stdout",
          "text": [
            "mean loss 0.0012716131173101531\n"
          ]
        },
        {
          "output_type": "stream",
          "name": "stderr",
          "text": [
            "Epoch 56: 100%|██████████| 800/800 [01:49<00:00,  7.33batch/s, Loss=0.00147]\n"
          ]
        },
        {
          "output_type": "stream",
          "name": "stdout",
          "text": [
            "mean loss 0.0015781116046082388\n"
          ]
        },
        {
          "output_type": "stream",
          "name": "stderr",
          "text": [
            "Epoch 57: 100%|██████████| 800/800 [01:48<00:00,  7.36batch/s, Loss=0.0191]\n"
          ]
        },
        {
          "output_type": "stream",
          "name": "stdout",
          "text": [
            "mean loss 0.0012482302352646002\n"
          ]
        },
        {
          "output_type": "stream",
          "name": "stderr",
          "text": [
            "Epoch 58: 100%|██████████| 800/800 [01:49<00:00,  7.31batch/s, Loss=0.000974]\n"
          ]
        },
        {
          "output_type": "stream",
          "name": "stdout",
          "text": [
            "mean loss 0.0014015886522338406\n"
          ]
        },
        {
          "output_type": "stream",
          "name": "stderr",
          "text": [
            "Epoch 59: 100%|██████████| 800/800 [01:49<00:00,  7.32batch/s, Loss=0.00279]\n"
          ]
        },
        {
          "output_type": "stream",
          "name": "stdout",
          "text": [
            "mean loss 0.00157955857372599\n"
          ]
        },
        {
          "output_type": "stream",
          "name": "stderr",
          "text": [
            "Epoch 60: 100%|██████████| 800/800 [01:49<00:00,  7.32batch/s, Loss=0.000105]\n"
          ]
        },
        {
          "output_type": "stream",
          "name": "stdout",
          "text": [
            "mean loss 0.0013676135065770723\n"
          ]
        },
        {
          "output_type": "stream",
          "name": "stderr",
          "text": [
            "Epoch 61: 100%|██████████| 800/800 [01:48<00:00,  7.36batch/s, Loss=0.00254]\n"
          ]
        },
        {
          "output_type": "stream",
          "name": "stdout",
          "text": [
            "mean loss 0.0010880711351865101\n"
          ]
        },
        {
          "output_type": "stream",
          "name": "stderr",
          "text": [
            "Epoch 62: 100%|██████████| 800/800 [01:49<00:00,  7.34batch/s, Loss=0.00287]\n"
          ]
        },
        {
          "output_type": "stream",
          "name": "stdout",
          "text": [
            "mean loss 0.001231965436027167\n"
          ]
        },
        {
          "output_type": "stream",
          "name": "stderr",
          "text": [
            "Epoch 63: 100%|██████████| 800/800 [01:49<00:00,  7.31batch/s, Loss=0.00511]\n"
          ]
        },
        {
          "output_type": "stream",
          "name": "stdout",
          "text": [
            "mean loss 0.0013053250638381541\n"
          ]
        },
        {
          "output_type": "stream",
          "name": "stderr",
          "text": [
            "Epoch 64: 100%|██████████| 800/800 [01:49<00:00,  7.33batch/s, Loss=0.00544]\n"
          ]
        },
        {
          "output_type": "stream",
          "name": "stdout",
          "text": [
            "mean loss 0.001381773586726922\n"
          ]
        },
        {
          "output_type": "stream",
          "name": "stderr",
          "text": [
            "Epoch 65: 100%|██████████| 800/800 [01:48<00:00,  7.37batch/s, Loss=0.000722]\n"
          ]
        },
        {
          "output_type": "stream",
          "name": "stdout",
          "text": [
            "mean loss 0.001425995081272049\n"
          ]
        },
        {
          "output_type": "stream",
          "name": "stderr",
          "text": [
            "Epoch 66: 100%|██████████| 800/800 [01:48<00:00,  7.35batch/s, Loss=0.000839]\n"
          ]
        },
        {
          "output_type": "stream",
          "name": "stdout",
          "text": [
            "mean loss 0.0013890524118005487\n"
          ]
        },
        {
          "output_type": "stream",
          "name": "stderr",
          "text": [
            "Epoch 67: 100%|██████████| 800/800 [01:48<00:00,  7.38batch/s, Loss=0.000205]\n"
          ]
        },
        {
          "output_type": "stream",
          "name": "stdout",
          "text": [
            "mean loss 0.001323027258968068\n"
          ]
        },
        {
          "output_type": "stream",
          "name": "stderr",
          "text": [
            "Epoch 68: 100%|██████████| 800/800 [01:49<00:00,  7.33batch/s, Loss=0.000912]\n"
          ]
        },
        {
          "output_type": "stream",
          "name": "stdout",
          "text": [
            "mean loss 0.0012071682253554173\n"
          ]
        },
        {
          "output_type": "stream",
          "name": "stderr",
          "text": [
            "Epoch 69: 100%|██████████| 800/800 [01:49<00:00,  7.34batch/s, Loss=0.00219]\n"
          ]
        },
        {
          "output_type": "stream",
          "name": "stdout",
          "text": [
            "mean loss 0.0014212194270612599\n"
          ]
        },
        {
          "output_type": "stream",
          "name": "stderr",
          "text": [
            "Epoch 70: 100%|██████████| 800/800 [01:49<00:00,  7.34batch/s, Loss=0.000366]\n"
          ]
        },
        {
          "output_type": "stream",
          "name": "stdout",
          "text": [
            "mean loss 0.0012778461055677325\n"
          ]
        },
        {
          "output_type": "stream",
          "name": "stderr",
          "text": [
            "Epoch 71: 100%|██████████| 800/800 [01:49<00:00,  7.30batch/s, Loss=0.00106]\n"
          ]
        },
        {
          "output_type": "stream",
          "name": "stdout",
          "text": [
            "mean loss 0.001242113324510683\n"
          ]
        },
        {
          "output_type": "stream",
          "name": "stderr",
          "text": [
            "Epoch 72: 100%|██████████| 800/800 [01:48<00:00,  7.34batch/s, Loss=0.000216]\n"
          ]
        },
        {
          "output_type": "stream",
          "name": "stdout",
          "text": [
            "mean loss 0.0014190511218066604\n"
          ]
        },
        {
          "output_type": "stream",
          "name": "stderr",
          "text": [
            "Epoch 73: 100%|██████████| 800/800 [01:48<00:00,  7.36batch/s, Loss=0.000778]\n"
          ]
        },
        {
          "output_type": "stream",
          "name": "stdout",
          "text": [
            "mean loss 0.0013343489832277555\n"
          ]
        },
        {
          "output_type": "stream",
          "name": "stderr",
          "text": [
            "Epoch 74: 100%|██████████| 800/800 [01:49<00:00,  7.32batch/s, Loss=0.000278]\n"
          ]
        },
        {
          "output_type": "stream",
          "name": "stdout",
          "text": [
            "mean loss 0.0011574659725556557\n"
          ]
        },
        {
          "output_type": "stream",
          "name": "stderr",
          "text": [
            "Epoch 75: 100%|██████████| 800/800 [01:49<00:00,  7.33batch/s, Loss=8.8e-5]\n"
          ]
        },
        {
          "output_type": "stream",
          "name": "stdout",
          "text": [
            "mean loss 0.0010258716996168005\n"
          ]
        },
        {
          "output_type": "stream",
          "name": "stderr",
          "text": [
            "Epoch 76: 100%|██████████| 800/800 [01:49<00:00,  7.30batch/s, Loss=0.0156]\n"
          ]
        },
        {
          "output_type": "stream",
          "name": "stdout",
          "text": [
            "mean loss 0.0013259334536519418\n"
          ]
        },
        {
          "output_type": "stream",
          "name": "stderr",
          "text": [
            "Epoch 77: 100%|██████████| 800/800 [01:48<00:00,  7.39batch/s, Loss=0.000151]\n"
          ]
        },
        {
          "output_type": "stream",
          "name": "stdout",
          "text": [
            "mean loss 0.0011594276727873876\n"
          ]
        },
        {
          "output_type": "stream",
          "name": "stderr",
          "text": [
            "Epoch 78: 100%|██████████| 800/800 [01:48<00:00,  7.35batch/s, Loss=0.000292]\n"
          ]
        },
        {
          "output_type": "stream",
          "name": "stdout",
          "text": [
            "mean loss 0.001300042165235027\n"
          ]
        },
        {
          "output_type": "stream",
          "name": "stderr",
          "text": [
            "Epoch 79: 100%|██████████| 800/800 [01:49<00:00,  7.32batch/s, Loss=0.000587]\n"
          ]
        },
        {
          "output_type": "stream",
          "name": "stdout",
          "text": [
            "mean loss 0.0010517346135293338\n"
          ]
        },
        {
          "output_type": "stream",
          "name": "stderr",
          "text": [
            "Epoch 80: 100%|██████████| 800/800 [01:49<00:00,  7.30batch/s, Loss=0.00259]"
          ]
        },
        {
          "output_type": "stream",
          "name": "stdout",
          "text": [
            "mean loss 0.001214828489771662\n"
          ]
        },
        {
          "output_type": "stream",
          "name": "stderr",
          "text": [
            "\n",
            "Epoch 81: 100%|██████████| 800/800 [01:49<00:00,  7.34batch/s, Loss=0.000211]\n"
          ]
        },
        {
          "output_type": "stream",
          "name": "stdout",
          "text": [
            "mean loss 0.0009792119263443055\n"
          ]
        },
        {
          "output_type": "stream",
          "name": "stderr",
          "text": [
            "Epoch 82: 100%|██████████| 800/800 [01:49<00:00,  7.32batch/s, Loss=0.000669]\n"
          ]
        },
        {
          "output_type": "stream",
          "name": "stdout",
          "text": [
            "mean loss 0.001406734066486024\n"
          ]
        },
        {
          "output_type": "stream",
          "name": "stderr",
          "text": [
            "Epoch 83: 100%|██████████| 800/800 [01:49<00:00,  7.33batch/s, Loss=0.000469]\n"
          ]
        },
        {
          "output_type": "stream",
          "name": "stdout",
          "text": [
            "mean loss 0.0011837985133229267\n"
          ]
        },
        {
          "output_type": "stream",
          "name": "stderr",
          "text": [
            "Epoch 84: 100%|██████████| 800/800 [01:51<00:00,  7.18batch/s, Loss=0.000145]\n"
          ]
        },
        {
          "output_type": "stream",
          "name": "stdout",
          "text": [
            "mean loss 0.0011476985758508817\n"
          ]
        },
        {
          "output_type": "stream",
          "name": "stderr",
          "text": [
            "Epoch 85: 100%|██████████| 800/800 [01:51<00:00,  7.17batch/s, Loss=0.00101]\n"
          ]
        },
        {
          "output_type": "stream",
          "name": "stdout",
          "text": [
            "mean loss 0.0009290449966329106\n"
          ]
        },
        {
          "output_type": "stream",
          "name": "stderr",
          "text": [
            "Epoch 86: 100%|██████████| 800/800 [01:48<00:00,  7.36batch/s, Loss=0.000687]\n"
          ]
        },
        {
          "output_type": "stream",
          "name": "stdout",
          "text": [
            "mean loss 0.0012200329307165702\n"
          ]
        },
        {
          "output_type": "stream",
          "name": "stderr",
          "text": [
            "Epoch 87: 100%|██████████| 800/800 [01:48<00:00,  7.35batch/s, Loss=0.00324]\n"
          ]
        },
        {
          "output_type": "stream",
          "name": "stdout",
          "text": [
            "mean loss 0.0012119993902570058\n"
          ]
        },
        {
          "output_type": "stream",
          "name": "stderr",
          "text": [
            "Epoch 88: 100%|██████████| 800/800 [01:49<00:00,  7.34batch/s, Loss=0.00199]\n"
          ]
        },
        {
          "output_type": "stream",
          "name": "stdout",
          "text": [
            "mean loss 0.0013674698200929925\n"
          ]
        },
        {
          "output_type": "stream",
          "name": "stderr",
          "text": [
            "Epoch 89: 100%|██████████| 800/800 [01:49<00:00,  7.33batch/s, Loss=0.000228]\n"
          ]
        },
        {
          "output_type": "stream",
          "name": "stdout",
          "text": [
            "mean loss 0.0010473418119795496\n"
          ]
        },
        {
          "output_type": "stream",
          "name": "stderr",
          "text": [
            "Epoch 90: 100%|██████████| 800/800 [01:49<00:00,  7.28batch/s, Loss=0.000254]"
          ]
        },
        {
          "output_type": "stream",
          "name": "stdout",
          "text": [
            "mean loss 0.0009384692776848169\n"
          ]
        },
        {
          "output_type": "stream",
          "name": "stderr",
          "text": [
            "\n",
            "Epoch 91: 100%|██████████| 800/800 [01:49<00:00,  7.33batch/s, Loss=0.00013]\n"
          ]
        },
        {
          "output_type": "stream",
          "name": "stdout",
          "text": [
            "mean loss 0.0010473756523288102\n"
          ]
        },
        {
          "output_type": "stream",
          "name": "stderr",
          "text": [
            "Epoch 92: 100%|██████████| 800/800 [01:50<00:00,  7.26batch/s, Loss=0.000672]\n"
          ]
        },
        {
          "output_type": "stream",
          "name": "stdout",
          "text": [
            "mean loss 0.0015553222114590426\n"
          ]
        },
        {
          "output_type": "stream",
          "name": "stderr",
          "text": [
            "Epoch 93: 100%|██████████| 800/800 [01:49<00:00,  7.34batch/s, Loss=9.65e-5]\n"
          ]
        },
        {
          "output_type": "stream",
          "name": "stdout",
          "text": [
            "mean loss 0.0011574864444219202\n"
          ]
        },
        {
          "output_type": "stream",
          "name": "stderr",
          "text": [
            "Epoch 94: 100%|██████████| 800/800 [01:49<00:00,  7.30batch/s, Loss=0.000426]\n"
          ]
        },
        {
          "output_type": "stream",
          "name": "stdout",
          "text": [
            "mean loss 0.000984327060286887\n"
          ]
        },
        {
          "output_type": "stream",
          "name": "stderr",
          "text": [
            "Epoch 95: 100%|██████████| 800/800 [01:49<00:00,  7.30batch/s, Loss=0.000144]"
          ]
        },
        {
          "output_type": "stream",
          "name": "stdout",
          "text": [
            "mean loss 0.0009213144921318417\n"
          ]
        },
        {
          "output_type": "stream",
          "name": "stderr",
          "text": [
            "\n",
            "Epoch 96: 100%|██████████| 800/800 [01:49<00:00,  7.32batch/s, Loss=0.00156]\n"
          ]
        },
        {
          "output_type": "stream",
          "name": "stdout",
          "text": [
            "mean loss 0.0011504291293840652\n"
          ]
        },
        {
          "output_type": "stream",
          "name": "stderr",
          "text": [
            "Epoch 97: 100%|██████████| 800/800 [01:49<00:00,  7.33batch/s, Loss=0.000308]\n"
          ]
        },
        {
          "output_type": "stream",
          "name": "stdout",
          "text": [
            "mean loss 0.0013712658331223792\n"
          ]
        },
        {
          "output_type": "stream",
          "name": "stderr",
          "text": [
            "Epoch 98: 100%|██████████| 800/800 [01:49<00:00,  7.32batch/s, Loss=0.000609]\n"
          ]
        },
        {
          "output_type": "stream",
          "name": "stdout",
          "text": [
            "mean loss 0.0010223376686144547\n"
          ]
        },
        {
          "output_type": "stream",
          "name": "stderr",
          "text": [
            "Epoch 99: 100%|██████████| 800/800 [01:48<00:00,  7.36batch/s, Loss=9.44e-5]\n"
          ]
        },
        {
          "output_type": "stream",
          "name": "stdout",
          "text": [
            "mean loss 0.0011910777747607426\n"
          ]
        },
        {
          "output_type": "stream",
          "name": "stderr",
          "text": [
            "Epoch 100: 100%|██████████| 800/800 [01:49<00:00,  7.29batch/s, Loss=0.000429]"
          ]
        },
        {
          "output_type": "stream",
          "name": "stdout",
          "text": [
            "mean loss 0.0011533386863038686\n"
          ]
        },
        {
          "output_type": "stream",
          "name": "stderr",
          "text": [
            "\n",
            "Epoch 101: 100%|██████████| 800/800 [01:46<00:00,  7.53batch/s, Loss=0.000182]\n"
          ]
        },
        {
          "output_type": "stream",
          "name": "stdout",
          "text": [
            "mean loss 0.0011338361081448057\n"
          ]
        },
        {
          "output_type": "stream",
          "name": "stderr",
          "text": [
            "Epoch 102: 100%|██████████| 800/800 [01:49<00:00,  7.30batch/s, Loss=0.000337]"
          ]
        },
        {
          "output_type": "stream",
          "name": "stdout",
          "text": [
            "mean loss 0.0014318019118309167\n"
          ]
        },
        {
          "output_type": "stream",
          "name": "stderr",
          "text": [
            "\n"
          ]
        },
        {
          "output_type": "display_data",
          "data": {
            "text/plain": [
              "<Figure size 640x480 with 0 Axes>"
            ]
          },
          "metadata": {}
        }
      ]
    },
    {
      "cell_type": "code",
      "source": [
        "n_test_new = fold_size"
      ],
      "metadata": {
        "id": "I8I9lyomRWID",
        "colab": {
          "base_uri": "https://localhost:8080/"
        },
        "outputId": "0e567bf5-9a44-4530-95eb-14ff662b4a57"
      },
      "execution_count": 28,
      "outputs": [
        {
          "output_type": "execute_result",
          "data": {
            "text/plain": [
              "10"
            ]
          },
          "metadata": {},
          "execution_count": 28
        }
      ]
    },
    {
      "cell_type": "code",
      "execution_count": 54,
      "metadata": {
        "id": "1hOEdHjFV6hw",
        "colab": {
          "base_uri": "https://localhost:8080/",
          "height": 434
        },
        "outputId": "6aa4f528-a443-4465-d3c1-95579103db5a"
      },
      "outputs": [
        {
          "output_type": "display_data",
          "data": {
            "text/plain": [
              "<Figure size 640x480 with 1 Axes>"
            ],
            "image/png": "[encoded data removed]"
          },
          "metadata": {}
        }
      ],
      "source": [
        "epoch = 100\n",
        "diff_outs = [None] * n_test_new\n",
        "fold = 1\n",
        "\n",
        "for i in range(n_test_new):\n",
        "  diff_out = np.load(f'./diff_results/fold{fold}/x0_number_{i+1}_epoch_{epoch}.npy')\n",
        "  diff_out = np.reshape(diff_out, (img_size, img_size, 1))\n",
        "  plt.imshow(diff_out, cmap='gray')\n",
        "  # diff_out = np.reshape(diff_out, (1, img_size, img_size))\n",
        "  # diff_out = torch.tensor(diff_out)\n",
        "  # diff_outs[i] = diff_out.unsqueeze(0)\n",
        "\n",
        "\n",
        "path = f'ct_test{fold}.hdf5'\n",
        "f = h5py.File(path,'r')\n",
        "ct_test_fold = f['data']"
      ]
    },
    {
      "cell_type": "code",
      "source": [
        "# pip install pytorch-ignite"
      ],
      "metadata": {
        "id": "JAymPRy3tWti"
      },
      "execution_count": 49,
      "outputs": []
    },
    {
      "cell_type": "code",
      "execution_count": 50,
      "metadata": {
        "id": "EbQ9sTC9V6hw"
      },
      "outputs": [],
      "source": [
        "from ignite.metrics import PSNR, SSIM\n",
        "from collections import OrderedDict\n",
        "\n",
        "import torch\n",
        "from torch import nn, optim\n",
        "\n",
        "from ignite.engine import *\n",
        "from ignite.handlers import *\n",
        "from ignite.metrics import *\n",
        "from ignite.utils import *\n",
        "from ignite.contrib.metrics.regression import *\n",
        "from ignite.contrib.metrics import *\n",
        "\n",
        "# create default evaluator for doctests\n",
        "\n",
        "def eval_step(engine, batch):\n",
        "    return batch\n",
        "\n",
        "default_evaluator = Engine(eval_step)"
      ]
    },
    {
      "cell_type": "code",
      "execution_count": 51,
      "metadata": {
        "id": "UHb7PonYV6hw"
      },
      "outputs": [],
      "source": [
        "targets = [None] * n_test_new\n",
        "\n",
        "for i in range(n_test_new):\n",
        "  ct_sample = ct_test_fold[i]\n",
        "  ct_sample = np.reshape(ct_sample, (1, img_size, img_size))\n",
        "  ct_sample = torch.tensor(ct_sample)\n",
        "  targets[i] = ct_sample.unsqueeze(0)\n"
      ]
    },
    {
      "cell_type": "code",
      "execution_count": 53,
      "metadata": {
        "id": "vvDAs8dlV6hw",
        "colab": {
          "base_uri": "https://localhost:8080/"
        },
        "outputId": "3e92c8c2-7c48-4361-f75f-066448e0e79b"
      },
      "outputs": [
        {
          "output_type": "stream",
          "name": "stdout",
          "text": [
            "0.7576877817916952\n",
            "0.8786321989105628\n",
            "0.6699464118489906\n",
            "0.6633016977424009\n",
            "0.5785646019706157\n",
            "0.5791178351204944\n",
            "0.8534248386369652\n",
            "0.7666755865992005\n",
            "0.6983905736118386\n",
            "0.7200167001587716\n"
          ]
        }
      ],
      "source": [
        "metric = SSIM(data_range=1.0)\n",
        "metric.attach(default_evaluator, 'ssim')\n",
        "\n",
        "\n",
        "sum_ssims = 0\n",
        "\n",
        "for i in range(n_test_new):\n",
        "  state = default_evaluator.run([[diff_outs[i], targets[i]]])\n",
        "  ssim_value = state.metrics['ssim']\n",
        "  print(ssim_value)\n",
        "  sum_ssims += ssim_value\n",
        "\n",
        "avg_ssim = sum_ssims / n_test_new\n",
        "\n",
        "# avg_ssim"
      ]
    },
    {
      "cell_type": "code",
      "execution_count": null,
      "metadata": {
        "id": "x7ZRIRyxV6hx"
      },
      "outputs": [],
      "source": [
        "# average\n",
        "\n",
        "80: 0.58\n",
        "85: 0.61\n",
        "90: 0.61\n",
        "95: 0.58\n",
        "100: 0.71"
      ]
    },
    {
      "cell_type": "code",
      "source": [],
      "metadata": {
        "id": "d1PGFmOqSVYZ"
      },
      "execution_count": null,
      "outputs": []
    }
  ],
  "metadata": {
    "kernelspec": {
      "display_name": "Python 3",
      "name": "python3"
    },
    "language_info": {
      "codemirror_mode": {
        "name": "ipython",
        "version": 3
      },
      "file_extension": ".py",
      "mimetype": "text/x-python",
      "name": "python",
      "nbconvert_exporter": "python",
      "pygments_lexer": "ipython3",
      "version": "3.8.5"
    },
    "orig_nbformat": 4,
    "colab": {
      "provenance": [],
      "gpuType": "T4"
    },
    "accelerator": "GPU"
  },
  "nbformat": 4,
  "nbformat_minor": 0
}